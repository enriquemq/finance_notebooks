{
  "nbformat": 4,
  "nbformat_minor": 0,
  "metadata": {
    "colab": {
      "name": "BaB_IbovOnly_GITHUB_V2.ipynb",
      "provenance": [],
      "collapsed_sections": []
    },
    "kernelspec": {
      "name": "python3",
      "display_name": "Python 3"
    }
  },
  "cells": [
    {
      "cell_type": "markdown",
      "metadata": {
        "id": "-mNqzEMIuCZF"
      },
      "source": [
        "# Betting Against Beta no Ibovespa\n",
        "Escrito por: Enrique Quintslr (https://github.com/enriquemq/)"
      ]
    },
    {
      "cell_type": "markdown",
      "metadata": {
        "id": "9i4OdJSWdyxi"
      },
      "source": [
        "## Introdução\n",
        "Neste notebook será feito o exercício de testar a famosa estratégia Betting against Beta (BaB) utilizando as ações que compõem atualmente a carteira do Ibovespa como o universo de investimento. Publicada por Andrea Frazzini e Lasse Pedersen em 2013 no *Journal of Financial Economics*, a ideia da estratégia é apostar que ações com correlação com mercado (*market beta*) relativamente mais baixa tendem a ter retornos melhores do que ações com *market beta* mais alto. Portanto, consiste em formar um portfólio long short **ex-ante market neutral** no qual a ponta long consiste de ações com betas menores e a ponta short consiste de ações com betas maiores.  \n",
        "\n",
        "A **intuição econômica** por trás da estratégia tem como ponto de partida a existência limites à alavancagem, seja por questões de regulação ou por aversão à alavancagem. Em um mercado perfeito, os investidores escolheriam a sua alocação no *capital market line*, que representa o trade-off ótimo entre risco e retorno. Neste mercado, a forma de aumentar eficientemente o retorno esperado é através da alavancagem, se endividando no ativo livre de risco para poder aumentar a posição na carteira ótima de ativos arriscados.  \n",
        "No entanto, o mercado do mundo real existem restrições à alavancagem e, assim, a forma que os investidores com maior apetite ao risco tem para aumentar seu retorno esperado é aumentando a exposição à ativos com beta elevado. Desta forma, ativos que possuem beta elevado tem uma utilidade adicional em relação aos que possuem beta mais baixo, uma vez que permitem alcançar pontos mais altos na market capital line. Logo, em um mercado em equilíbrio, ativos com beta alto devem ter embutido em seus preços um \"prêmio de alavancagem\" e, por esse motivo, apresentariam retorno esperado ajustado para risco de mercado menor que ativos com beta menor.  \n",
        "\n",
        "O restante do notebook está organizado da seguinte forma: primeiro serão dados maiores detalhes sobre a metodologia, em seguida será apresentado o resultado e em seguida, apresentado o código utilizado para obter os resultados. Por fim, uma breve lista de bibliografia é apresentada, onde encontra-se a referência para o paper original e alguns estudos feitos para o caso brasileiro."
      ]
    },
    {
      "cell_type": "markdown",
      "metadata": {
        "id": "0ULAvUPOeMcF"
      },
      "source": [
        "## Metodologia\n",
        "\n",
        "**Dados:**  \n",
        "Os dados de preços das ações foram extraídos da base do Yahoo Finance, enquanto as séries dos retornos dos fatores de risco obtidos do site do NEFIN.\n",
        "\n",
        "**Formação do Portfólio:**  \n",
        "Passo 1 - Cálculo dos betas:  \n",
        "-  No primeiro dia de cada mês (que tenha dados disponíveis suficientes) para cada ação é realizada a regressão do modelo de 5 fatores usando a janela dos 252 dias anteriores. Destas regressões são extraídos o market beta de cada ação.\n",
        "\n",
        "Passo 2 - Cálculo dos pesos:  \n",
        "- Obtido os betas, calcula-se a mediana dos betas de cada mês. As ações que tiverem $\\beta$ menor que a mediana são alocadas no portfólio long e as ações com $\\beta$ maior que a mediana são alocadas no portfólio short.\n",
        "- Dentro de cada portfólio direcional, os pesos das ações são decididos ponderando pelos betas. Ou seja, considerando a ação $i$ que está alocada no portfólio $p$, seu peso $w_i$ é calculado da seguinte forma:\n",
        "$$w_i = \\frac{\\beta_i}{\\sum_{j\\in p}\\beta_j}$$  \n",
        "\n",
        "- Por fim, como o objetivo é ter um portfólio long short market neutral ($\\beta_{BaB} = 0$) será necessário alavancar a ponta long e desalavancar a ponta short, de forma que ambas as pontas tenham $\\beta$ igual a $1$. Para tal, é necessário calcular o $\\beta$ de cada ponta e, assim, a \"intensidade\" da alavancagem (desalavancagem no caso da ponta short) será dada por $\\frac{1}{\\beta_{ponta}}$.\n",
        "\n",
        "Observações: Como para gerar o portfólio $\\beta$ neutral é necessário alavancagem, diferente da maioria dos portfólios teóricos, o **BaB não é Dollar Neutral** (no nosso caso, Real Neutral).\n",
        "\n",
        "**Cálculo de retornos e análise dos resultados:**  \n",
        "Com os pesos calculados, o retorno mensal da estratégia é dado por:\n",
        "$$r_{BaB} = \\frac{1}{\\beta_{long}}(r_{long} - r_f) - \\frac{1}{\\beta_{short}}(r_{short} - r_f)$$  \n",
        "Onde $r_{BaB}$ é o retorno da estratégia, $r_{long}$ ($r_{short}$) é o retorno da ponta long (short) antes dos ajustes dos betas e $r_f$ é a taxa livre de risco.  \n",
        "\n",
        "Com o resultado em mãos, será comparado o retorno da estratégia, o retorno da ponta long e o retorno da ponta short com o retorno do Ibovespa utilizando as métricas de performance usuais. Posteriormente, calculando o retorno diário do $BaB$ e de suas pontas, serão feitas regressões de 5 fatores poder analisar suas relações com os principais fatores de risco."
      ]
    },
    {
      "cell_type": "markdown",
      "metadata": {
        "id": "8043vSPX_-N9"
      },
      "source": [
        "## Resultados e Análise\n",
        "Para melhorar a organização do notebook, os resultados e a análise são apresentadas antes dos códigos. Portanto, para replicar o resultado apresentado abaixo é necessário **rodar primeiro a sessão que contém os códigos**."
      ]
    },
    {
      "cell_type": "markdown",
      "metadata": {
        "id": "o_cctovSCJPF"
      },
      "source": [
        "### Resultados"
      ]
    },
    {
      "cell_type": "code",
      "metadata": {
        "colab": {
          "base_uri": "https://localhost:8080/",
          "height": 778
        },
        "id": "tMsp0uHfA7EM",
        "outputId": "ddc02094-7603-4a64-97ac-8dc4be619627"
      },
      "source": [
        "print('Regressões utilizando dados de retorno diário',\n",
        "      summary_col(models,\n",
        "                  stars=True,\n",
        "                  model_names=['BaB', 'Small_Beta', 'Large_Beta']),\n",
        "       '\\n')\n",
        "print('Métricas de Performance:')\n",
        "comparar_performances()"
      ],
      "execution_count": 13,
      "outputs": [
        {
          "output_type": "stream",
          "text": [
            "Regressões utilizando dados de retorno diário \n",
            "===========================================\n",
            "              BaB     Small_Beta Large_Beta\n",
            "-------------------------------------------\n",
            "Intercept  -0.0004    0.0002     0.0008*** \n",
            "           (0.0003)   (0.0002)   (0.0003)  \n",
            "mkt_factor -0.0285    0.8187***  1.7740*** \n",
            "           (0.0178)   (0.0113)   (0.0208)  \n",
            "smb_factor -0.3271*** 0.0995**   0.5441*** \n",
            "           (0.0687)   (0.0437)   (0.0802)  \n",
            "hml_factor 0.0177     -0.1365*** -0.0439   \n",
            "           (0.0368)   (0.0234)   (0.0430)  \n",
            "wml_factor 0.0186     0.0500**   0.0380    \n",
            "           (0.0347)   (0.0221)   (0.0406)  \n",
            "iml_factor 0.2856***  0.0907*    -0.2237***\n",
            "           (0.0740)   (0.0471)   (0.0864)  \n",
            "===========================================\n",
            "Standard errors in parentheses.\n",
            "* p<.1, ** p<.05, ***p<.01 \n",
            "\n",
            "Métricas de Performance:\n"
          ],
          "name": "stdout"
        },
        {
          "output_type": "display_data",
          "data": {
            "text/html": [
              "<div>\n",
              "<style scoped>\n",
              "    .dataframe tbody tr th:only-of-type {\n",
              "        vertical-align: middle;\n",
              "    }\n",
              "\n",
              "    .dataframe tbody tr th {\n",
              "        vertical-align: top;\n",
              "    }\n",
              "\n",
              "    .dataframe thead th {\n",
              "        text-align: right;\n",
              "    }\n",
              "</style>\n",
              "<table border=\"1\" class=\"dataframe\">\n",
              "  <thead>\n",
              "    <tr style=\"text-align: right;\">\n",
              "      <th></th>\n",
              "      <th>Annualized Accumulated Return</th>\n",
              "      <th>Annualized Mean Return</th>\n",
              "      <th>Annualized Std</th>\n",
              "      <th>Sharpe Ratio</th>\n",
              "      <th>Max Drawdown</th>\n",
              "    </tr>\n",
              "  </thead>\n",
              "  <tbody>\n",
              "    <tr>\n",
              "      <th>BaB</th>\n",
              "      <td>-0.041714</td>\n",
              "      <td>-0.035614</td>\n",
              "      <td>0.116910</td>\n",
              "      <td>-0.876941</td>\n",
              "      <td>0.197413</td>\n",
              "    </tr>\n",
              "    <tr>\n",
              "      <th>Small Beta</th>\n",
              "      <td>0.135779</td>\n",
              "      <td>0.164919</td>\n",
              "      <td>0.226835</td>\n",
              "      <td>0.384915</td>\n",
              "      <td>0.357969</td>\n",
              "    </tr>\n",
              "    <tr>\n",
              "      <th>Large Beta</th>\n",
              "      <td>0.281306</td>\n",
              "      <td>0.462401</td>\n",
              "      <td>0.500002</td>\n",
              "      <td>0.639694</td>\n",
              "      <td>0.608595</td>\n",
              "    </tr>\n",
              "    <tr>\n",
              "      <th>Ibovespa</th>\n",
              "      <td>0.109171</td>\n",
              "      <td>0.139049</td>\n",
              "      <td>0.248689</td>\n",
              "      <td>0.259715</td>\n",
              "      <td>0.397274</td>\n",
              "    </tr>\n",
              "  </tbody>\n",
              "</table>\n",
              "</div>"
            ],
            "text/plain": [
              "            Annualized Accumulated Return  ...  Max Drawdown\n",
              "BaB                             -0.041714  ...      0.197413\n",
              "Small Beta                       0.135779  ...      0.357969\n",
              "Large Beta                       0.281306  ...      0.608595\n",
              "Ibovespa                         0.109171  ...      0.397274\n",
              "\n",
              "[4 rows x 5 columns]"
            ]
          },
          "metadata": {
            "tags": []
          }
        },
        {
          "output_type": "display_data",
          "data": {
            "image/png": "[encoded data removed]",
            "text/plain": [
              "<Figure size 432x288 with 1 Axes>"
            ]
          },
          "metadata": {
            "tags": [],
            "needs_background": "light"
          }
        }
      ]
    },
    {
      "cell_type": "markdown",
      "metadata": {
        "id": "5YqyWPdUAAX-"
      },
      "source": [
        "### Análise\n",
        "Primeiro analisando as métricas de performance, temos que a estratégia $BaB$ apresentou retorno negativo no período analisado. Assim temos um indício de que não seria possível extrair o \"prêmio de alavancagem\" usando apenas as ações que compõem o Ibov. No entanto, é necessário levar em conta que este período é relativamente curto para avaliar esse tipo de estratégia, uma vez que estratégias voltadas para prêmios de risco tem como objetivo ganhos no longo prazo. Assim, seria necessário avaliar a estratégia em uma janela de tempo mais longa. Para outros estudos para o caso brasileiro ver Esposito (2017), Nascimento (2017) e Lima (2019).\n",
        "\n",
        "Por outro lado os dois portfólios direcionais formados para a estratégia apresentaram performance bem satisfatórias, superando o benchmark. O portfólio de ações $Small\\text{ }Beta$ ($SB$) domina o Ibov tanto em retorno anualizado quanto em volatilidade, portanto, apresentou um sharpe ratio mais atrativo. Além disso, o max drawdown também foi menor que do Ibovespa. Já o portfólio $Large\\text{ }Beta$ ($LB$), apesar de apresentar volatilidade e drawdown máximo maior que o do Ibovespa (o que era esperado por ser composto de ações com betas elevados), apresenta sharpe ratio maior que do Ibov e do que o $SB$, uma vez que o retorno obtido mais do que compensou o aumento do risco.  \n",
        "\n",
        "Agora avaliando os resultado da regressão do $BaB$, primeiro notar que o objetivo de construir um portfólio market neutral foi cumprido: o coeficiente relacionado ao fator de mercado na regressão **não** é estatisticamente diferente de $0$. Apesar disso, observa-se que o portfólio tem exposição não trivial ao fator de risco de tamanho $SMB$ e ao fator de risco de iliquidez $IML$. No caso do $SMB$ temos que o coeficiente é negativo, mostrando que o portfólio está sobrepesando ações de empresas maiores. Já no caso do $IML$, como o coeficiente é positivo, o portfólio concentra ações com maior iliquidez.\n",
        "\n",
        "Comparando os resultados das regressões entre os dois portfólios direcionais, observa-se que a diferença entre o market $\\beta$ deste portfólios é razoavelmente grande. O coeficiente do portfólio $LB$ é maior que o dobro do coeficiente do $SB$. Além disso, $LB$ tem uma exposição consideravelmente maior do que o $SB$ ao fator de risco de tamanho. Uma explicação possível é o fato de ações de empresas menores terem maior risco e, portanto, maior $\\beta$. Outro resultado interessante, é o fato do $SB$ ter coeficiente relacionado ao portfólio de iliquidez positivo enquanto o $LB$ apresenta coeficiente negativo. Este é um resultado razoável considerando que ações com menor liquidez tem, também, menor correlação com o mercado.  \n",
        "\n",
        "Finalmente, o resultado que mais chama atenção é o fato do portfólio **$LB$ ter apresentado $\\alpha$ estatisticamente maior que $0$**. Portanto, além de não termos observado retornos positivos no $BaB$ ainda temos que existiu retorno anormal em investir sistematicamente em ações com $\\beta$ mais elevado. Tal resultado pode ter as seguintes possíveis interpretações: (1) a janela temporal estudada consiste em um período de baixa aversão (ou baixa restrição) à alavancagem e/ou (2) no período analisado a aversão ao risco dos investidores era consideravelmente alta, fazendo-os sobrepesar ações com betas mais baixos."
      ]
    },
    {
      "cell_type": "markdown",
      "metadata": {
        "id": "IxjD-ZQMoJOD"
      },
      "source": [
        "## Código:"
      ]
    },
    {
      "cell_type": "code",
      "metadata": {
        "id": "N5VcJwD7vMF2"
      },
      "source": [
        "import pandas as pd\n",
        "import numpy as np\n",
        "import pandas_datareader.data as web\n",
        "import matplotlib.pyplot as plt\n",
        "from statsmodels.formula.api import ols"
      ],
      "execution_count": null,
      "outputs": []
    },
    {
      "cell_type": "markdown",
      "metadata": {
        "id": "DNg14DufoTG5"
      },
      "source": [
        "### Montando as bases que serão utilizadas nas regressões"
      ]
    },
    {
      "cell_type": "markdown",
      "metadata": {
        "id": "M3FBPSdjojXI"
      },
      "source": [
        "Montando base dos fatores de risco\n"
      ]
    },
    {
      "cell_type": "code",
      "metadata": {
        "id": "d7DAUrEJtymY"
      },
      "source": [
        "url_smb_factor = 'http://nefin.com.br/Risk%20Factors/SMB_Factor.xls'            \n",
        "url_hml_factor = 'http://nefin.com.br/Risk%20Factors/HML_Factor.xls'            \n",
        "url_wml_factor = 'http://nefin.com.br/Risk%20Factors/WML_Factor.xls'            \n",
        "url_iml_factor = 'http://nefin.com.br/Risk%20Factors/IML_Factor.xls' \n",
        "url_rate_curve = 'http://nefin.com.br/Spot%20Rate%20Curve/spot_rate_curve.xls'  \n",
        "\n",
        "# Criando dicionários para usar no loop a seguir\n",
        "series = {'smb_factor': url_smb_factor,\n",
        "          'hml_factor': url_hml_factor,\n",
        "          'wml_factor': url_wml_factor,\n",
        "          'iml_factor': url_iml_factor,\n",
        "         }\n",
        "dfs = {}\n",
        "\n",
        "# Loop para pegar os dados, formatar datas e definir data como índice\n",
        "for k,v in series.items():\n",
        "  dfs[k] = pd.read_excel(v)\n",
        "  if 'day' in dfs[k].columns:  # necessário porque rate_curve já vem cum uma única coluda para as datas\n",
        "    dfs[k]['Date'] = pd.to_datetime(dfs[k][['year', 'month', 'day']])\n",
        "    dfs[k] = dfs[k].drop(columns=['year', 'month', 'day'])\n",
        "  dfs[k] = dfs[k].set_index('Date')\n",
        "  dfs[k] = dfs[k].iloc[:,0] # para transformar em pd.Series e conseguir usar pd.DataFrame.from_dict()\n",
        "# Juntando\n",
        "base_risk_factor = pd.DataFrame.from_dict(dfs)\n",
        "\n",
        "# Montando mkt_minus_rf manualmente\n",
        "base_risk_free = pd.read_excel(url_rate_curve)\n",
        "base_risk_free = base_risk_free[['Date', '1 month']]\n",
        "base_risk_free = base_risk_free.set_index('Date')\n",
        "base_risk_free.index.name = 'Date'\n",
        "base_risk_free = (1+base_risk_free)**(1/252) - 1\n",
        "base_risk_free.columns = ['risk_free']\n",
        " \n",
        "bvsp = web.DataReader('^BVSP', data_source='yahoo')\n",
        "bvsp_retornos = bvsp[['Close']]\n",
        "bvsp_retornos = (bvsp_retornos - bvsp_retornos.shift()) / bvsp_retornos.shift()\n",
        "bvsp_retornos.index.name = 'Date'\n",
        "bvsp_retornos = bvsp_retornos.merge(base_risk_free, how = 'inner', on = 'Date')\n",
        "bvsp_retornos['Rm_minus_Rf'] = bvsp_retornos.iloc[:,0] - bvsp_retornos.iloc[:,1]\n",
        "base_risk_factor['mkt_factor'] = bvsp_retornos[['Rm_minus_Rf']]\n",
        "base_risk_factor.dropna(inplace=True)"
      ],
      "execution_count": 2,
      "outputs": []
    },
    {
      "cell_type": "markdown",
      "metadata": {
        "id": "hGRS0fNDoe4e"
      },
      "source": [
        "Montando base das ações"
      ]
    },
    {
      "cell_type": "code",
      "metadata": {
        "id": "t8KYBUWwt5h1"
      },
      "source": [
        "tickers = ['ABEV3.SA', 'AZUL4.SA', 'B3SA3.SA', 'BBAS3.SA', 'BBDC4.SA',\n",
        "           'BBSE3.SA', 'BEEF3.SA', 'BPAC11.SA', 'BRAP4.SA', 'BRDT3.SA', \n",
        "           'BRFS3.SA', 'BRKM5.SA', 'BRML3.SA', 'BTOW3.SA', 'CCRO3.SA', \n",
        "           'CIEL3.SA', 'CMIG4.SA', 'COGN3.SA', 'CPFE3.SA', 'CRFB3.SA',\n",
        "           'CSAN3.SA', 'CSNA3.SA', 'CVCB3.SA', 'CYRE3.SA', 'ECOR3.SA',\n",
        "           'EGIE3.SA', 'ELET3.SA', 'ELET6.SA', 'EMBR3.SA', 'ENBR3.SA', \n",
        "           'ENGI11.SA', 'EQTL3.SA', 'FLRY3.SA', 'GGBR4.SA', 'GNDI3.SA',\n",
        "           'GOAU4.SA', 'GOLL4.SA', 'HAPV3.SA', 'HGTX3.SA', 'HYPE3.SA',\n",
        "           'IGTA3.SA', 'IRBR3.SA', 'ITSA4.SA', 'ITUB4.SA', 'JBSS3.SA', \n",
        "           'KLBN11.SA', 'LAME4.SA', 'LREN3.SA', 'MGLU3.SA', 'MRFG3.SA',\n",
        "           'MRVE3.SA', 'MULT3.SA', 'NTCO3.SA', 'PETR3.SA', 'PETR4.SA',\n",
        "           'QUAL3.SA', 'RADL3.SA', 'RAIL3.SA', 'RENT3.SA', 'SANB11.SA', \n",
        "           'SBSP3.SA', 'SULA11.SA', 'SUZB3.SA', 'TAEE11.SA', 'TIMP3.SA',\n",
        "           'TOTS3.SA', 'UGPA3.SA', 'USIM5.SA', 'VALE3.SA', 'VIVT4.SA', \n",
        "           'VVAR3.SA', 'WEGE3.SA', 'YDUQ3.SA']\n",
        "\n",
        "# Baixando os dados do Yahoo\n",
        "keys = []\n",
        "for ticker in tickers:\n",
        "    name = ticker[:-3]\n",
        "    keys.append(name)\n",
        "\n",
        "dfs = {}\n",
        "for i in range(len(keys)):\n",
        "  dfs[keys[i]] = web.DataReader(tickers[i], data_source='yahoo') \n",
        "\n",
        "# Consolidando os preços de fechamento em uma única base\n",
        "base_fechamentos = []\n",
        "for key in dfs.keys():\n",
        "  base_fechamentos.append(dfs[key]['Close'])\n",
        "base_fechamentos = pd.DataFrame(base_fechamentos).transpose()\n",
        "base_fechamentos.columns = dfs.keys()\n",
        "base_retorno = base_fechamentos.diff() / base_fechamentos.shift()"
      ],
      "execution_count": 3,
      "outputs": []
    },
    {
      "cell_type": "markdown",
      "metadata": {
        "id": "dSfDWOWKoq0_"
      },
      "source": [
        "Juntando as duas bases"
      ]
    },
    {
      "cell_type": "code",
      "metadata": {
        "id": "xacWz5b2g8gR"
      },
      "source": [
        "base_completa = base_retorno.merge(base_risk_factor, on = 'Date')\n",
        "base_completa['risk_free'] = base_risk_free['risk_free']"
      ],
      "execution_count": 4,
      "outputs": []
    },
    {
      "cell_type": "markdown",
      "metadata": {
        "id": "xekBSJQBozIL"
      },
      "source": [
        "### Calculando os betas"
      ]
    },
    {
      "cell_type": "code",
      "metadata": {
        "id": "7HsX4T6zAr_S"
      },
      "source": [
        "# datas_aux pega o primeiro dia de cada mês no indice de base_completa\n",
        "datas_aux = pd.DataFrame(base_completa.index, index = base_completa.index).resample('MS').agg('first')\n",
        "# base_betas usa os dados da data_aux como índice para poder rodar o Loop a seguir\n",
        "base_betas = pd.DataFrame(index = datas_aux['Date'])\n",
        "# base_completa_mensal para calcular o retorno dos portfolios (note que tem o mesmo index 'irregular' de base_betas)\n",
        "base_completa_mensal = base_completa.resample('MS').agg(lambda x: (x+1).prod() -1)\n",
        "base_completa_mensal.index = datas_aux['Date']\n"
      ],
      "execution_count": 5,
      "outputs": []
    },
    {
      "cell_type": "code",
      "metadata": {
        "id": "73vwGl45DKaZ"
      },
      "source": [
        "# No primeiro dia do mês t, rodar a regressao com 252 obs até o último dia do mês t-1. Com isso, calcular os pesos para o portfólio do mês t.\n",
        "for col in base_retorno.columns:\n",
        "    betas = []\n",
        "    for date in base_betas.index: \n",
        "        base_reg_aux = base_completa.loc[:,[col, 'risk_free', 'mkt_factor', 'smb_factor', 'hml_factor', 'wml_factor', 'iml_factor']]\n",
        "        base_reg_aux['Y'] = base_reg_aux.loc[:,col] - base_reg_aux['risk_free']\n",
        "        base_reg_aux.dropna(inplace = True)\n",
        "        \n",
        "        if date not in base_reg_aux.index:\n",
        "            betas.append(None)\n",
        "        else:  \n",
        "            n = np.where(base_reg_aux.index==date)[0][0]\n",
        "            if n >= 252:\n",
        "                base_reg_aux['Y'] = base_reg_aux.loc[:,col] - base_reg_aux['risk_free']\n",
        "                model = ols(\"Y ~ mkt_factor + smb_factor + hml_factor + wml_factor + iml_factor\", base_reg_aux.iloc[n-252:n]).fit()\n",
        "                beta = model.params[1]*0.7 + 1*0.3 # 1 = cross sectional beta! VASICEK (1973) APPROACH COM PESO 0.4 (mitigate outliers influence) \n",
        "                betas.append(beta)\n",
        "            else:\n",
        "                betas.append(None)\n",
        "    base_betas[col] = betas\n",
        "\n",
        "# Tirando as datas com mais da metade de NaNs\n",
        "base_betas.dropna(axis = 0, thresh=len(base_betas.columns)/2, inplace=True)\n"
      ],
      "execution_count": 6,
      "outputs": []
    },
    {
      "cell_type": "markdown",
      "metadata": {
        "id": "BlXBM8kCpF5Q"
      },
      "source": [
        "### Formação das carteiras"
      ]
    },
    {
      "cell_type": "code",
      "metadata": {
        "id": "EshngEy5V-i0"
      },
      "source": [
        "# Subtrair a mediana para auxiliar na formação das carteiras\n",
        "base_betas_mediana = base_betas.sub(base_betas.median(axis = 1), axis = 0)\n",
        "\n",
        "# Ativos em cada uma das carteiras em cada mês. Se beta - mediana_beta > 0 toma-se posição SHORT no ativo. Se beta - mediana_beta < 0, toma-se posição LONG.\n",
        "carteira_long_ativos = pd.Series(dtype='object')\n",
        "carteira_short_ativos = pd.Series(dtype='object')\n",
        "for date in base_betas_mediana.index:\n",
        "  carteira_long_ativos[date] = [col for col in base_betas_mediana.columns if base_betas_mediana.loc[date, col] < 0]\n",
        "  carteira_short_ativos[date] = [col for col in base_betas_mediana.columns if base_betas_mediana.loc[date, col] >= 0]\n",
        "\n",
        "# Cacular os pesos nao ajustados\n",
        "base_pesos_long_semajuste = pd.DataFrame(index=base_betas.index)\n",
        "base_pesos_short_semajuste = pd.DataFrame(index=base_betas.index)\n",
        "\n",
        "for date in base_betas.index:\n",
        "    for a in base_betas.columns:\n",
        "        if a in carteira_long_ativos[date]:\n",
        "            base_pesos_long_semajuste.loc[date, a] = base_betas.loc[date, a]/base_betas.loc[date,carteira_long_ativos[date]].sum()\n",
        "            base_pesos_short_semajuste.loc[date, a] = 0\n",
        "        elif a in carteira_short_ativos[date]:\n",
        "            base_pesos_long_semajuste.loc[date, a] = 0\n",
        "            base_pesos_short_semajuste.loc[date, a] = base_betas.loc[date, a]/base_betas.loc[date,carteira_long_ativos[date]].sum()\n",
        "        else:\n",
        "            base_pesos_long_semajuste.loc[date, a] = 0\n",
        "            base_pesos_short_semajuste.loc[date, a] = 0"
      ],
      "execution_count": 7,
      "outputs": []
    },
    {
      "cell_type": "markdown",
      "metadata": {
        "id": "-afun5Z4pbA5"
      },
      "source": [
        "### Calculando os retornos"
      ]
    },
    {
      "cell_type": "code",
      "metadata": {
        "id": "yr-FAAd2cDVS"
      },
      "source": [
        "# Retornos de cada ponta:\n",
        "INICIO = np.where(base_completa_mensal.index==base_pesos_short_semajuste.index[0])[0][0]\n",
        "retorno_long_sem_ajuste = pd.Series((base_completa_mensal.iloc[INICIO:,:-6].values * base_pesos_long_semajuste.values).sum(axis=1),\n",
        "                                    index=base_pesos_long_semajuste.index)\n",
        "retorno_short_sem_ajuste = pd.Series((base_completa_mensal.iloc[INICIO:,:-6].values * base_pesos_short_semajuste.values).sum(axis=1), \n",
        "                                     index=base_pesos_long_semajuste.index)\n",
        "\n",
        "# Calculando os betas de cada portfólio direcional\n",
        "base_betas_aux = base_betas.values\n",
        "base_betas_aux[pd.isnull(base_betas.values)] = 0\n",
        "\n",
        "betas_long_leg = pd.Series((base_pesos_long_semajuste.values * base_betas_aux).sum(axis=1), index=base_pesos_long_semajuste.index)\n",
        "betas_short_leg = pd.Series((base_pesos_short_semajuste.values * base_betas_aux).sum(axis=1), index=base_pesos_long_semajuste.index)\n",
        "\n",
        "# Retorno BaB:\n",
        "rf = base_completa_mensal.iloc[INICIO:, :]['risk_free']\n",
        "retorno_bab = ((1/betas_long_leg)*(retorno_long_sem_ajuste - rf)\n",
        "              -(1/betas_short_leg)*(retorno_short_sem_ajuste - rf))"
      ],
      "execution_count": 8,
      "outputs": []
    },
    {
      "cell_type": "code",
      "metadata": {
        "id": "-ePY4hQYaLn5"
      },
      "source": [
        "# Comparando os Portfólios:\n",
        "mkt_minus_rf = base_completa_mensal.iloc[INICIO:, :]['mkt_factor']\n",
        "portfolios_retornos_mensais = {'BaB': retorno_bab,\n",
        "                               'Small Beta':retorno_long_sem_ajuste,\n",
        "                               'Large Beta':retorno_short_sem_ajuste,\n",
        "                               'Ibovespa': (mkt_minus_rf + rf)}\n",
        "\n",
        "def month_to_acum(serie):\n",
        "  return (1+serie).cumprod()\n",
        "\n",
        "def max_drawdown(series):\n",
        "  series = list(series)\n",
        "  drawdown = 0\n",
        "  for i in range(len(series)):\n",
        "    for j in range(i):\n",
        "      d = (series[i] - series[j])/series[j]\n",
        "      if d < drawdown:\n",
        "        drawdown = d\n",
        "  return abs(drawdown)\n",
        "                  "
      ],
      "execution_count": 9,
      "outputs": []
    },
    {
      "cell_type": "markdown",
      "metadata": {
        "id": "3fW8Ru34p1QC"
      },
      "source": [
        "### Comparando as performances"
      ]
    },
    {
      "cell_type": "code",
      "metadata": {
        "id": "4fsrL6Csaqtj"
      },
      "source": [
        "def comparar_performances():\n",
        "    metrics_lists = []\n",
        "    for k in portfolios_retornos_mensais.keys():\n",
        "        port = portfolios_retornos_mensais[k]\n",
        "        acum = month_to_acum(port)\n",
        "        sharpe =  (np.mean(port)-np.mean(rf))/np.std(port)*np.sqrt(12)\n",
        "        annualized_acum_return = (1 + (acum[-1]-acum[0])/acum[0])**(12/len(acum)) - 1\n",
        "        annualized_mean_return = (1+np.mean(port))**(12) - 1\n",
        "        annualized_std = np.std(port)*np.sqrt(12)\n",
        "        max_d = max_drawdown(acum)\n",
        "        metrics_lists.append([annualized_acum_return,\n",
        "                              annualized_mean_return,\n",
        "                              annualized_std,\n",
        "                              sharpe,\n",
        "                              max_d])\n",
        "        plt.plot(acum, label = k)\n",
        "    metricas_consolidadas = pd.DataFrame(metrics_lists, \n",
        "                                         index = portfolios_retornos_mensais.keys(),\n",
        "                                         columns=['Annualized Accumulated Return',\n",
        "                                                  'Annualized Mean Return', \n",
        "                                                  'Annualized Std',\n",
        "                                                  'Sharpe Ratio',\n",
        "                                                  'Max Drawdown'] )\n",
        "\n",
        "    plt.legend()\n",
        "    display(metricas_consolidadas)"
      ],
      "execution_count": 10,
      "outputs": []
    },
    {
      "cell_type": "markdown",
      "metadata": {
        "id": "QFcU4I9yqAWt"
      },
      "source": [
        "### Regressão 5 fatores usando os retornos diários"
      ]
    },
    {
      "cell_type": "markdown",
      "metadata": {
        "id": "ztQere0wqp_N"
      },
      "source": [
        "Preparando as bases"
      ]
    },
    {
      "cell_type": "code",
      "metadata": {
        "id": "1RushkMobGqm"
      },
      "source": [
        "# Passando bases mensais para bases diárias\n",
        "base_pesos_long_semajuste_d = base_pesos_long_semajuste.resample('D').agg('ffill')\n",
        "base_pesos_short_semajuste_d = base_pesos_short_semajuste.resample('D').agg('ffill')\n",
        "betas_long_leg_d = betas_long_leg.resample('D').agg('ffill')\n",
        "betas_short_leg_d = betas_short_leg.resample('D').agg('ffill')\n",
        "\n",
        "# Padronizando o index\n",
        "base_merge_aux = base_pesos_long_semajuste_d.merge(base_retorno, on='Date') # Usar o indice dessa base para filtrar as bases de pesos diários\n",
        "base_pesos_long_semajuste_d = base_pesos_long_semajuste_d.loc[base_merge_aux.index]\n",
        "base_pesos_short_semajuste_d = base_pesos_short_semajuste_d.loc[base_merge_aux.index]\n",
        "betas_long_leg_d = betas_long_leg_d.loc[base_merge_aux.index]\n",
        "betas_short_leg_d  = betas_short_leg_d.loc[base_merge_aux.index]\n",
        "\n",
        "# Calculando os retornos dos portfólios direcionais\n",
        "INICIO_d = np.where(base_retorno.index==base_pesos_short_semajuste_d.index[0])[0][0]\n",
        "FIM_d = np.where(base_retorno.index==base_pesos_short_semajuste_d.index[-1])[0][0]\n",
        "base_retorno_aux = base_retorno.iloc[INICIO_d:FIM_d+1,:]\n",
        "base_retorno[pd.isnull(base_retorno_aux)] = 0\n",
        "retornos_long_d = pd.Series((base_pesos_long_semajuste_d.values * base_retorno_aux.values).sum(axis=1), \n",
        "                            index = base_merge_aux.index)\n",
        "retornos_short_d = pd.Series((base_pesos_short_semajuste_d.values * base_retorno_aux.values).sum(axis=1), \n",
        "                             index = base_merge_aux.index)\n",
        "\n",
        "# Calculando retorno BAB\n",
        "base_calc_d = pd.concat([retornos_long_d, retornos_short_d, base_completa['risk_free']], axis = 1)\n",
        "base_calc_d.columns = ['ret_long', 'ret_short', 'risk_free']\n",
        "base_calc_d.dropna(inplace=True)\n",
        "retorno_bab_d = ( (1/betas_long_leg_d)*(base_calc_d['ret_long'] - base_calc_d['risk_free']) \n",
        "                 -((1/betas_short_leg_d)*(base_calc_d['ret_short'] -base_calc_d['risk_free'])))\n",
        "\n",
        "# Preparando base para regressão\n",
        "base_port_d = pd.DataFrame(np.array([retorno_bab_d, retornos_long_d, retornos_short_d]).T, \n",
        "                           index = retorno_bab_d.index,\n",
        "                           columns = ['retorno_bab_d', 'retornos_long_d', 'retornos_short_d']).astype('float64')                        \n",
        "base_reg_d = base_completa.iloc[:,-6:].merge(base_port_d, on = 'Date')"
      ],
      "execution_count": 11,
      "outputs": []
    },
    {
      "cell_type": "markdown",
      "metadata": {
        "id": "l_rUp5-FqspZ"
      },
      "source": [
        "Rodando as regressões"
      ]
    },
    {
      "cell_type": "code",
      "metadata": {
        "id": "emO_WPT6hZ7Q"
      },
      "source": [
        "from statsmodels.iolib.summary2 import summary_col\n",
        "models = []\n",
        "for col in base_port_d.columns:\n",
        "  base_reg_d['Y'] = base_reg_d[col] - base_reg_d['risk_free']\n",
        "  model = ols(\"Y ~ mkt_factor + smb_factor + hml_factor + wml_factor + iml_factor\", data = base_reg_d).fit()\n",
        "  models.append(model)"
      ],
      "execution_count": 12,
      "outputs": []
    },
    {
      "cell_type": "markdown",
      "metadata": {
        "id": "yCs5mz3J_CyO"
      },
      "source": [
        "## Bibliografia\n",
        "\n"
      ]
    },
    {
      "cell_type": "markdown",
      "metadata": {
        "id": "BPsrJGngEaLz"
      },
      "source": [
        "ESPOSITO, V. Betting Against Beta in Brazil. GV Invest Short Studies Series, 2017.  \n",
        "\n",
        "**FRAZZINI, A. e LASSE, P. Betting Against Beta, Journal of\n",
        "Financial Economics 111 (1), 1–25, 2014.**\n",
        "\n",
        "LIMA, I. de Castro. A estratégia Betting Against Beta no mercado de ações brasileiro. Dissertação (Mestrado) - PUC-RJ, Departamento de Economia, 2019.  \n",
        "\n",
        "NASCIMENTO, F. Betting against beta no mercado acionário brasileiro. Dissertação (MPFE) - FGV, Escola de Economia de São Paulo, 2017."
      ]
    }
  ]
}
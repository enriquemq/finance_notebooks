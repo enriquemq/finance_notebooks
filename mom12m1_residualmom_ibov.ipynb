{
 "cells": [
  {
   "cell_type": "markdown",
   "metadata": {},
   "source": [
    "# Momentum e Momentum Residual no IBOV\n",
    "Escrito por: Enrique Quintslr (https://github.com/enriquemq/)"
   ]
  },
  {
   "cell_type": "markdown",
   "metadata": {},
   "source": [
    "## Introdução e metodologia"
   ]
  },
  {
   "cell_type": "markdown",
   "metadata": {},
   "source": [
    "Neste notebook será analisada a performance do portfólio de momentum padrão com o portfólio de momentum residual para as ações que compõem a carteira teórica do Ibov atualmente (terceiro quadrimestre de 2020). A janela de análise usada é de 02/01/2017 até 30/10/2020. O portfólio de momentum padrão (MOM12m1) é baseado em Carhart [(1997)](#Referências) e o de momentum residual (ResMOM) é baseado em Blitz, Huij e Mertens [(2011)](#Referências). Além desses dois portfólios, será analisado, também, um portfólio que diversifica entre as duas estratégias, que será chamado de agora em diante de **MixRes12m1**. A formação de cada carteira é dada da seguinte forma:  \n",
    "\n",
    "**MOM12m1**:\n",
    "- No primeiro dia de cada mês as $n$ ações são ranqueadas de acordo com seu retorno nos últimos 12 meses excluindo o mês mais recente.\n",
    "- A ponta long é formada pelas $\\frac{n}{3}$ (arredondando quando necessário) ações com os maiores retornos com pesos iguais. A ponta short é formada de forma análoga, escolhendo as $\\frac{n}{3}$ ações com menores retornos.\n",
    "- O portfólio é mantido (com rebalanceamentos diários para manter os pesos iguais) até o final do mês.\n",
    "\n",
    "**ResMOM**:\n",
    "- No primeiro dia de cada mês, para cada uma das $n$ ações é realizada a seguinte regressão usando dados diários dos 252 dias anteriores:  \n",
    "\n",
    "$$ r_{i,t} = \\alpha_i + \\beta_{1,i}RMRF_t + \\beta_{2,i}SMB_t + \\beta_{3,i}HML_t + \\epsilon_{i,t}  $$  \n",
    "\n",
    "Onde $r_{i,t}$ é o retorno da ação $i$ no dia $t$, $RMRF_t$ é o retorno do mercado menos retorno da taxa livre de risco no dia $t$, $SMB_t$ é o retorno do portfólio teórico de tamanho no dia $t$ e $HML_t$ é o retorno do portfólio de valor no dia $t$. Todos os retornos dos portfólios de fatores de risco foram obtidos do site do NEFIN (http://nefin.com.br/risk_factors.html).  \n",
    "- Obtido a série dos resíduos $\\epsilon_i$ de cada ação, as ações são ranqueadas conforme o resíduo médio normalizado do período.\n",
    "- As $\\frac{n}{3}$ ações com maiores resíduo médio normalizado são alocadas com pesos iguais na ponta long, enquanto as $\\frac{n}{3}$ ações com menores resíduos médio normalizados são alocadas com pesos iguais para a ponta short.\n",
    "- O portfólio é mantido (com rebalanceamentos diários para manter os pesos iguais) até o final do mês.\n",
    "\n",
    "**MixRes12m1**:\n",
    "- Tendo calculado os retornos de **MOM12m1** e **ResMOM**, o retorno em cada dia $t$ do **MixRes12m1** é dado por:  \n",
    "\n",
    "$$ r_{mix, t} = 0.5*r_{MOM12m1, t} + 0.5*r_{ResMOM, t} $$  \n"
   ]
  },
  {
   "cell_type": "markdown",
   "metadata": {},
   "source": [
    "## Resultados e análise"
   ]
  },
  {
   "cell_type": "markdown",
   "metadata": {},
   "source": [
    "Por motivos de apresentação, o resultado será exposto antes do código que foi rodado para obtê-lo. Portanto, para replicar os resultados é necessário rodar primeiro as células da sessão [Código](#Código) e, posteriormente, rodar a célula da sessão [Resultados](#Resultados). Além disso, o código abaixo pega os dados até a data mais recente para qual existam dados disponíveis. Assim, ao replicar os códigos pode-se encontrar resultados diferentes dependendo da data em que a replicação foi feita. Para obter exatamente os mesmos resultados do notebook, é necessário usar a mesmo recorte temporal."
   ]
  },
  {
   "cell_type": "markdown",
   "metadata": {},
   "source": [
    "### Resultados"
   ]
  },
  {
   "cell_type": "code",
   "execution_count": 11,
   "metadata": {},
   "outputs": [
    {
     "name": "stdout",
     "output_type": "stream",
     "text": [
      "Janela de regressão de 02/01/2017 até 30/10/2020\n",
      "\n",
      "===================================\n",
      "               MOM12m1     ResMOM  \n",
      "-----------------------------------\n",
      "Intercept     -0.0004    0.0003    \n",
      "              (0.0003)   (0.0004)  \n",
      "Market_Factor -0.1255*** -0.1206***\n",
      "              (0.0182)   (0.0242)  \n",
      "SMB_Factor    -0.0299    0.0185    \n",
      "              (0.0676)   (0.0899)  \n",
      "HML_Factor    0.0432     -0.2914***\n",
      "              (0.0364)   (0.0484)  \n",
      "WML_Factor    0.9676***  -0.0940** \n",
      "              (0.0310)   (0.0412)  \n",
      "IML_Factor    0.0607     0.1550    \n",
      "              (0.0727)   (0.0967)  \n",
      "R-squared     0.5093     0.0909    \n",
      "              0.5119     0.0958    \n",
      "===================================\n",
      "Standard errors in parentheses.\n",
      "* p<.1, ** p<.05, ***p<.01\n",
      "Metricas de Performance:\n"
     ]
    },
    {
     "data": {
      "text/html": [
       "<div>\n",
       "<style scoped>\n",
       "    .dataframe tbody tr th:only-of-type {\n",
       "        vertical-align: middle;\n",
       "    }\n",
       "\n",
       "    .dataframe tbody tr th {\n",
       "        vertical-align: top;\n",
       "    }\n",
       "\n",
       "    .dataframe thead th {\n",
       "        text-align: right;\n",
       "    }\n",
       "</style>\n",
       "<table border=\"1\" class=\"dataframe\">\n",
       "  <thead>\n",
       "    <tr style=\"text-align: right;\">\n",
       "      <th></th>\n",
       "      <th>Annualized Accumulated Return</th>\n",
       "      <th>Annualized Mean Return</th>\n",
       "      <th>Annualized Std</th>\n",
       "      <th>Sharpe Ratio</th>\n",
       "      <th>Max Drawdown</th>\n",
       "    </tr>\n",
       "  </thead>\n",
       "  <tbody>\n",
       "    <tr>\n",
       "      <th>MOM12m1</th>\n",
       "      <td>0.114212</td>\n",
       "      <td>0.133277</td>\n",
       "      <td>0.183774</td>\n",
       "      <td>0.345968</td>\n",
       "      <td>0.231613</td>\n",
       "    </tr>\n",
       "    <tr>\n",
       "      <th>ResMOM</th>\n",
       "      <td>0.075868</td>\n",
       "      <td>0.093929</td>\n",
       "      <td>0.179598</td>\n",
       "      <td>0.157169</td>\n",
       "      <td>0.170594</td>\n",
       "    </tr>\n",
       "    <tr>\n",
       "      <th>MixRes12m1</th>\n",
       "      <td>0.106227</td>\n",
       "      <td>0.113430</td>\n",
       "      <td>0.111035</td>\n",
       "      <td>0.413416</td>\n",
       "      <td>0.138364</td>\n",
       "    </tr>\n",
       "    <tr>\n",
       "      <th>Benchmark</th>\n",
       "      <td>0.149863</td>\n",
       "      <td>0.188748</td>\n",
       "      <td>0.265045</td>\n",
       "      <td>0.420290</td>\n",
       "      <td>0.411171</td>\n",
       "    </tr>\n",
       "  </tbody>\n",
       "</table>\n",
       "</div>"
      ],
      "text/plain": [
       "            Annualized Accumulated Return  Annualized Mean Return  \\\n",
       "MOM12m1                          0.114212                0.133277   \n",
       "ResMOM                           0.075868                0.093929   \n",
       "MixRes12m1                       0.106227                0.113430   \n",
       "Benchmark                        0.149863                0.188748   \n",
       "\n",
       "            Annualized Std  Sharpe Ratio  Max Drawdown  \n",
       "MOM12m1           0.183774      0.345968      0.231613  \n",
       "ResMOM            0.179598      0.157169      0.170594  \n",
       "MixRes12m1        0.111035      0.413416      0.138364  \n",
       "Benchmark         0.265045      0.420290      0.411171  "
      ]
     },
     "metadata": {},
     "output_type": "display_data"
    },
    {
     "data": {
      "image/png": "[encoded data removed]",
      "text/plain": [
       "<Figure size 432x288 with 1 Axes>"
      ]
     },
     "metadata": {
      "needs_background": "light"
     },
     "output_type": "display_data"
    }
   ],
   "source": [
    "print('Janela de regressão de', base_resultados.index[0].strftime('%d/%m/%Y'),\n",
    "      'até', base_resultados.index[-1].strftime('%d/%m/%Y'))\n",
    "print(summary_col(models, stars = True, model_names = ['MOM12m1', 'ResMOM'] ))\n",
    "print('Metricas de Performance:')\n",
    "comparar_performances()"
   ]
  },
  {
   "cell_type": "markdown",
   "metadata": {},
   "source": [
    "### Análise\n",
    "**Regressões:**\n",
    "- O portfólio de momentum 12m1 (*MOM12m1*) e o portfólio de momentum residual (*ResMOM*) apresentam market beta bem próximos, ambos relativamente baixos (o que é esperado de portfólios long-short).  \n",
    "\n",
    "- *ResMOM* apresenta uma exposição negativa não trivial ao fator de risco de valor ($HML$), mostrando que no período analisado esta estratégia sobrepesou empresas com múltiplos de valor não atrativos.  \n",
    "\n",
    "- O parâmetro entre *MOM12m1* e o fator de risco de momentum é próximo de $1$. Tal fato era esperado, uma vez que a regra de formação do *MOM12m1* é basicamente a mesma que a do $WML$, sendo a única diferença o universo de ações em cada regra de formação.  \n",
    "\n",
    "- Curiosamente, *ResMOM* apresentou exposição à $WML$ estatisticamente significativa e **negativa** (apesar de próxima de 0), mostrando uma possível oportunidade de diversificação. \n",
    "\n",
    "**Métricas de Performance:**\n",
    "-  Comparando *MOM12m1* e *ResMOM*, temos que, de forma geral, *MOM12m1* apresentou uma performance mais satisfatória levando o consideração o índice de Sharpe. No entanto, no que pesa o drawdown máximo, para alguns investidores a estratégia *ResMOM* pode ter sido mais atraente.\n",
    "- Tanto *MOM12m1* quanto *ResMOM* apresentaram sharpe abaixo do benchmark, apesar de terem métricas de risco melhores.\n",
    "- As métricas do portfólio *MixRes12m1* (formado como média entre *MOM12m1* e *ResMOM*), mostram que no período analisado a diversificação entre *ResMOM* e *MOM12m1* foi benéfica. O portfólio diversificado apresentou volatilidade bem abaixo das volatilidades dos portfólios subjacentes, além de apresentar menor drawdown máximo. Ainda, a queda da volatilidade foi grande o suficiente para o portfólio passar a apresentar Sharpe Ratio comparável ao do benchmark. Tal resultado justifica uma análise mais aprofundada dessa estratégia, com uma janela de tempo mais longa e maior universo de ativos."
   ]
  },
  {
   "cell_type": "markdown",
   "metadata": {},
   "source": [
    "## Código"
   ]
  },
  {
   "cell_type": "markdown",
   "metadata": {},
   "source": [
    "### imports e preparação dos dados"
   ]
  },
  {
   "cell_type": "code",
   "execution_count": 1,
   "metadata": {},
   "outputs": [],
   "source": [
    "import pandas as pd\n",
    "import numpy as np\n",
    "import matplotlib.pyplot as plt\n",
    "import pandas_datareader.data as web\n",
    "from statsmodels.formula.api import ols"
   ]
  },
  {
   "cell_type": "code",
   "execution_count": 2,
   "metadata": {},
   "outputs": [],
   "source": [
    "# Fatores de Risco\n",
    "factors = ['Market_Factor', 'SMB_Factor', 'HML_Factor', 'WML_Factor',\n",
    "               'IML_Factor', 'Risk_Free'] \n",
    "url = 'http://nefin.com.br/Risk%20Factors/{}.xls'\n",
    "dfs = {}\n",
    "\n",
    "for factor in factors:\n",
    "    dfs[factor] = pd.read_excel(url.format(factor))\n",
    "    dfs[factor]['Date'] = pd.to_datetime(dfs[factor][['year', 'month', 'day']])\n",
    "    dfs[factor] = dfs[factor].drop(columns=['year', 'month', 'day'])\n",
    "    dfs[factor] = dfs[factor].set_index('Date')\n",
    "    dfs[factor] = dfs[factor].iloc[:,0] # para transformar em pd.Series e conseguir usar pd.DataFrame.from_dict()\n",
    "\n",
    "base_risk_factors = pd.DataFrame.from_dict(dfs)\n",
    "\n",
    "# Acoes\n",
    "tickers = ['ABEV3.SA', 'AZUL4.SA', 'B3SA3.SA', 'BBAS3.SA', 'BBDC4.SA',\n",
    "           'BBSE3.SA', 'BEEF3.SA', 'BPAC11.SA', 'BRAP4.SA', 'BRDT3.SA', \n",
    "           'BRFS3.SA', 'BRKM5.SA', 'BRML3.SA', 'BTOW3.SA', 'CCRO3.SA', \n",
    "           'CIEL3.SA', 'CMIG4.SA', 'COGN3.SA', 'CPFE3.SA', 'CRFB3.SA',\n",
    "           'CSAN3.SA', 'CSNA3.SA', 'CVCB3.SA', 'CYRE3.SA', 'ECOR3.SA',\n",
    "           'EGIE3.SA', 'ELET3.SA', 'ELET6.SA', 'EMBR3.SA', 'ENBR3.SA', \n",
    "           'ENGI11.SA', 'EQTL3.SA', 'FLRY3.SA', 'GGBR4.SA', 'GNDI3.SA',\n",
    "           'GOAU4.SA', 'GOLL4.SA', 'HAPV3.SA', 'HGTX3.SA', 'HYPE3.SA',\n",
    "           'IGTA3.SA', 'IRBR3.SA', 'ITSA4.SA', 'ITUB4.SA', 'JBSS3.SA', \n",
    "           'KLBN11.SA', 'LAME4.SA', 'LREN3.SA', 'MGLU3.SA', 'MRFG3.SA',\n",
    "           'MRVE3.SA', 'MULT3.SA', 'NTCO3.SA', 'PETR3.SA', 'PETR4.SA',\n",
    "           'QUAL3.SA', 'RADL3.SA', 'RAIL3.SA', 'RENT3.SA', 'SANB11.SA', \n",
    "           'SBSP3.SA', 'SULA11.SA', 'SUZB3.SA', 'TAEE11.SA', 'TIMP3.SA',\n",
    "           'TOTS3.SA', 'UGPA3.SA', 'USIM5.SA', 'VALE3.SA', 'VIVT4.SA', \n",
    "           'VVAR3.SA', 'WEGE3.SA', 'YDUQ3.SA']\n",
    "\n",
    "# Baixando os dados do Yahoo\n",
    "keys = []\n",
    "for ticker in tickers:\n",
    "    name = ticker[:-3]\n",
    "    keys.append(name)\n",
    "\n",
    "dfs = {}\n",
    "for i in range(len(keys)):\n",
    "    dfs[keys[i]] = web.DataReader(tickers[i], data_source='yahoo') \n",
    "\n",
    "# Consolidando os preços de fechamento em uma única base\n",
    "base_fechamentos = []\n",
    "for key in dfs.keys():\n",
    "    base_fechamentos.append(dfs[key]['Close'])\n",
    "base_fechamentos = pd.DataFrame(base_fechamentos).transpose()\n",
    "base_fechamentos.columns = dfs.keys()\n",
    "base_retorno = base_fechamentos.diff() / base_fechamentos.shift()\n",
    "\n",
    "# Juntando\n",
    "base_completa = base_retorno.merge(base_risk_factors, on = 'Date')"
   ]
  },
  {
   "cell_type": "markdown",
   "metadata": {},
   "source": [
    "### base sinais MOM12m1"
   ]
  },
  {
   "cell_type": "code",
   "execution_count": 3,
   "metadata": {},
   "outputs": [],
   "source": [
    "# Base Momentum\n",
    "base_fechamentos_mensal = base_fechamentos.resample('MS').agg('last')\n",
    "base_fechamentos_mensal\n",
    "base_mom12m1 = (base_fechamentos_mensal.shift(2) - base_fechamentos_mensal.shift(13))/base_fechamentos_mensal.shift(13)\n",
    "\n",
    "# datas_aux pega o primeiro dia de cada mês no indice de base_fechamentos\n",
    "datas_aux = pd.DataFrame(base_fechamentos.index, index = base_fechamentos.index).resample('MS').agg('first')\n",
    "base_mom12m1.index = datas_aux['Date']"
   ]
  },
  {
   "cell_type": "markdown",
   "metadata": {},
   "source": [
    "### base sinais ResMOM"
   ]
  },
  {
   "cell_type": "code",
   "execution_count": 4,
   "metadata": {},
   "outputs": [],
   "source": [
    "# datas_aux pega o primeiro dia de cada mês no indice de base_completa\n",
    "datas_aux = pd.DataFrame(base_completa.index, index = base_completa.index).resample('MS').agg('first')\n",
    "# base_resid_returns usa os dados da data_aux como índice para poder rodar o Loop a seguir\n",
    "base_resid_returns = pd.DataFrame(index = datas_aux['Date'])\n",
    "\n",
    "\n",
    "# No primeiro dia do mês t, rodar a regressao com 252 obs até o último dia do mês t-1. \n",
    "# Com isso, calcular os pesos para o portfólio do mês t.\n",
    "for col in base_retorno.columns:\n",
    "    residual_returns = []\n",
    "    for date in base_resid_returns.index: \n",
    "        base_reg_aux = base_completa.loc[:,[col, 'Risk_Free', 'Market_Factor', 'SMB_Factor', 'HML_Factor', 'WML_Factor', 'IML_Factor']]\n",
    "        base_reg_aux['Y'] = base_reg_aux.loc[:,col] - base_reg_aux['Risk_Free']\n",
    "        base_reg_aux.dropna(inplace = True)\n",
    "        \n",
    "        if date not in base_reg_aux.index:\n",
    "            residual_returns.append(None)\n",
    "        else:  \n",
    "            n = np.where(base_reg_aux.index==date)[0][0]\n",
    "            if n >= 252:\n",
    "                base_reg_aux['Y'] = base_reg_aux.loc[:,col] - base_reg_aux['Risk_Free']\n",
    "                model = ols(\"Y ~ Market_Factor + SMB_Factor + HML_Factor\", base_reg_aux.iloc[n-252:n]).fit()\n",
    "                residual_return = np.mean(model.resid)/np.std(model.resid)\n",
    "                residual_returns.append(residual_return)\n",
    "            else:\n",
    "                residual_returns.append(None)\n",
    "    base_resid_returns[col] = residual_returns\n",
    "\n",
    "# Tirando as datas com mais da metade de NaNs\n",
    "base_resid_returns.dropna(axis = 0, thresh=len(base_resid_returns.columns)/2, inplace=True)"
   ]
  },
  {
   "cell_type": "markdown",
   "metadata": {},
   "source": [
    "### formando os portfólios"
   ]
  },
  {
   "cell_type": "code",
   "execution_count": 5,
   "metadata": {},
   "outputs": [],
   "source": [
    "base_res_long = []\n",
    "base_res_short = []\n",
    "base_mom_long = []\n",
    "base_mom_short = []\n",
    "for i in base_resid_returns.index:\n",
    "    n_acoes = int(round(base_resid_returns.count(axis = 1)[i]/3))\n",
    "    acoes_long = base_resid_returns.loc[i,:].dropna().sort_values(ascending  = False)[:n_acoes].index\n",
    "    base_res_long.append(acoes_long)\n",
    "    acoes_short = base_resid_returns.loc[i,:].dropna().sort_values(ascending  = True)[:n_acoes].index\n",
    "    base_res_short.append(acoes_short)\n",
    "    \n",
    "    n_acoes = int(round(base_mom12m1.count(axis = 1)[i]/3))\n",
    "    acoes_mom_long = base_mom12m1.loc[i,:].dropna().sort_values(ascending = False)[:n_acoes].index\n",
    "    base_mom_long.append(acoes_mom_long)\n",
    "    acoes_mom_short = base_mom12m1.loc[i,:].dropna().sort_values(ascending = True)[:n_acoes].index\n",
    "    base_mom_short.append(acoes_mom_short)\n",
    "    \n",
    "base_res_long = pd.DataFrame(base_res_long, index  = base_resid_returns.index)\n",
    "base_res_short = pd.DataFrame(base_res_short, index = base_resid_returns.index)\n",
    "base_mom_long = pd.DataFrame(base_mom_long, index  = base_resid_returns.index)\n",
    "base_mom_short = pd.DataFrame(base_mom_short, index = base_resid_returns.index)\n"
   ]
  },
  {
   "cell_type": "markdown",
   "metadata": {},
   "source": [
    "### passando para frequência diária"
   ]
  },
  {
   "cell_type": "code",
   "execution_count": 6,
   "metadata": {},
   "outputs": [],
   "source": [
    "# Base momento residual long\n",
    "base_res_long_d = pd.DataFrame(base_res_long, index = base_completa.index).agg('ffill')\n",
    "base_res_long_d = base_res_long_d[base_res_long.index[0]:]\n",
    "\n",
    "# Base momento residual short\n",
    "base_res_short_d = pd.DataFrame(base_res_short, index = base_completa.index).agg('ffill')\n",
    "base_res_short_d = base_res_short_d[base_res_short.index[0]:]\n",
    "\n",
    "# Base momento 12m1 long\n",
    "base_mom_long_d = pd.DataFrame(base_mom_long, index = base_completa.index).agg('ffill')\n",
    "base_mom_long_d = base_mom_long_d[base_mom_long.index[0]:]\n",
    "\n",
    "# Base momento 12m1 short\n",
    "base_mom_short_d = pd.DataFrame(base_mom_short, index = base_completa.index).agg('ffill')\n",
    "base_mom_short_d = base_mom_short_d[base_mom_short.index[0]:]\n"
   ]
  },
  {
   "cell_type": "markdown",
   "metadata": {},
   "source": [
    "### calculando os retornos"
   ]
  },
  {
   "cell_type": "code",
   "execution_count": 7,
   "metadata": {},
   "outputs": [],
   "source": [
    "retornos_res_long = []\n",
    "retornos_res_short = []\n",
    "retornos_mom_long = []\n",
    "retornos_mom_short = []\n",
    "for d in base_res_long_d.index:\n",
    "    \n",
    "    acoes_long = base_res_long_d.loc[d,:].dropna()\n",
    "    ret = base_completa.loc[d,acoes_long].sum()/len(acoes_long)\n",
    "    retornos_res_long.append(ret)\n",
    "\n",
    "    acoes_short = base_res_short_d.loc[d,:].dropna()\n",
    "    ret = base_completa.loc[d, acoes_short].sum()/len(acoes_short)\n",
    "    retornos_res_short.append(ret)\n",
    "    \n",
    "    acoes_long = base_mom_long_d.loc[d,:].dropna()\n",
    "    ret = base_completa.loc[d,acoes_long].sum()/len(acoes_long)\n",
    "    retornos_mom_long.append(ret)\n",
    "    \n",
    "    acoes_short = base_mom_short_d.loc[d,:].dropna()\n",
    "    ret = base_completa.loc[d, acoes_short].sum()/len(acoes_short)\n",
    "    retornos_mom_short.append(ret)\n"
   ]
  },
  {
   "cell_type": "markdown",
   "metadata": {},
   "source": [
    "### consolidando os retornos em uma única base"
   ]
  },
  {
   "cell_type": "code",
   "execution_count": 8,
   "metadata": {},
   "outputs": [],
   "source": [
    "base_resultados = pd.DataFrame({'long_res': retornos_res_long,\n",
    "                                'short_res': retornos_res_short,\n",
    "                                'long_mom': retornos_mom_long,\n",
    "                                'short_mom': retornos_mom_short},\n",
    "                                index = base_res_long_d.index)\n",
    "\n",
    "base_resultados['ResMOM'] = base_resultados['long_res'] - base_resultados['short_res']\n",
    "base_resultados['MOM12m1'] = base_resultados['long_mom'] - base_resultados['short_mom']\n",
    "base_resultados['MixRes12m1'] = base_resultados['ResMOM']*0.5 + base_resultados['MOM12m1']*0.5\n",
    "base_resultados = base_resultados.merge(base_risk_factors, on = 'Date')\n",
    "base_resultados['Benchmark'] = base_resultados['Market_Factor'] + base_resultados['Risk_Free']"
   ]
  },
  {
   "cell_type": "markdown",
   "metadata": {},
   "source": [
    "### regressões fatores"
   ]
  },
  {
   "cell_type": "code",
   "execution_count": 9,
   "metadata": {},
   "outputs": [],
   "source": [
    "from statsmodels.iolib.summary2 import summary_col\n",
    "models = []\n",
    "for col in ['MOM12m1', 'ResMOM']:\n",
    "    base_resultados['Y'] = base_resultados[col] - base_resultados['Risk_Free']\n",
    "    model = ols(\"Y ~ Market_Factor + SMB_Factor + HML_Factor + WML_Factor + IML_Factor\", data = base_resultados).fit()\n",
    "    models.append(model)"
   ]
  },
  {
   "cell_type": "markdown",
   "metadata": {},
   "source": [
    "### métricas de performance"
   ]
  },
  {
   "cell_type": "code",
   "execution_count": 10,
   "metadata": {},
   "outputs": [],
   "source": [
    "def to_acum(serie):\n",
    "    return (1+serie).cumprod()\n",
    "\n",
    "def max_drawdown(series):\n",
    "    series = list(series)\n",
    "    drawdown = 0\n",
    "    for i in range(len(series)):\n",
    "        for j in range(i):\n",
    "            d = (series[i] - series[j])/series[j]\n",
    "            if d < drawdown:\n",
    "                drawdown = d\n",
    "    return abs(drawdown)\n",
    "\n",
    "def comparar_performances():\n",
    "    metrics_lists = []\n",
    "    ports = ['MOM12m1', 'ResMOM', 'MixRes12m1', 'Benchmark']\n",
    "    for k in ports:\n",
    "        port = base_resultados[k]\n",
    "        rf = base_resultados['Risk_Free']\n",
    "        acum = to_acum(port)\n",
    "        sharpe =  (np.mean(port)-np.mean(rf))/np.std(port)*np.sqrt(252)\n",
    "        annualized_acum_return = (1 + (acum[-1]-acum[0])/acum[0])**(252/len(acum)) - 1\n",
    "        annualized_mean_return = (1+np.mean(port))**(252) - 1\n",
    "        annualized_std = np.std(port)*np.sqrt(252)\n",
    "        max_d = max_drawdown(acum)\n",
    "        metrics_lists.append([annualized_acum_return,\n",
    "                              annualized_mean_return,\n",
    "                              annualized_std,\n",
    "                              sharpe,\n",
    "                              max_d])      \n",
    "        plt.plot(acum, label = k)\n",
    "        \n",
    "    metricas_consolidadas = pd.DataFrame(metrics_lists, \n",
    "                                         index = ports,\n",
    "                                         columns=['Annualized Accumulated Return',\n",
    "                                                  'Annualized Mean Return', \n",
    "                                                  'Annualized Std',\n",
    "                                                  'Sharpe Ratio',\n",
    "                                                  'Max Drawdown'] )\n",
    "\n",
    "    plt.legend()\n",
    "    display(metricas_consolidadas)"
   ]
  },
  {
   "cell_type": "markdown",
   "metadata": {},
   "source": [
    "## Referências\n",
    " - Blitz, D., Huij, J., Martens, M., 2011. Residual momentum. Journal of Empirical Finance 18, 506–521.\n",
    " \n",
    " - Carhart, M. M. (1997). \"On Persistence in Mutual Fund Performance\". The Journal of Finance. 52 (1): 57–82.\n",
    " \n",
    " "
   ]
  }
 ],
 "metadata": {
  "kernelspec": {
   "display_name": "Python 3",
   "language": "python",
   "name": "python3"
  },
  "language_info": {
   "codemirror_mode": {
    "name": "ipython",
    "version": 3
   },
   "file_extension": ".py",
   "mimetype": "text/x-python",
   "name": "python",
   "nbconvert_exporter": "python",
   "pygments_lexer": "ipython3",
   "version": "3.7.6"
  }
 },
 "nbformat": 4,
 "nbformat_minor": 4
}

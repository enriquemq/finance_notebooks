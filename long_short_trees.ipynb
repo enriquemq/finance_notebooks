{
  "nbformat": 4,
  "nbformat_minor": 0,
  "metadata": {
    "colab": {
      "name": "long_short_trees.ipynb",
      "provenance": [],
      "collapsed_sections": [],
      "authorship_tag": "ABX9TyNwLGOJMuAOQJHt6hwdNv/d"
    },
    "kernelspec": {
      "name": "python3",
      "display_name": "Python 3"
    }
  },
  "cells": [
    {
      "cell_type": "markdown",
      "metadata": {
        "id": "e1eZahq6r3F7"
      },
      "source": [
        "# Estratégia long-short baseada em trees ensembles\n",
        "**Escrito por**: Enrique Quintslr (https://github.com/enriquemq/)  \n",
        " <font size=\"2\"> *Qualquer crítica, dúvida ou sugestão, sinta-se a vontade para me contactar pelo meio de sua preferência.*</font> "
      ]
    },
    {
      "cell_type": "markdown",
      "metadata": {
        "id": "OzeMlO5vrw4e"
      },
      "source": [
        "## 1. Introdução"
      ]
    },
    {
      "cell_type": "markdown",
      "metadata": {
        "id": "9a9kc5VUA3tY"
      },
      "source": [
        "A ideia desse notebook é utilizar métodos de machine learning para montar um portfólio long-short com ações que compõem o índice Bovespa. O notebook é inspirado em algumas ideias apresentadas no seguinte artigo:\n",
        "\n",
        "*   Kraus et al, **Deep neural networks, gradient-boosted trees,\n",
        "random forests: Statistical arbitrage on the S&P 500**, European Journal of Operational Research. \n",
        "Volume 259, Issue 2, 1 June 2017, Pages 689-702\n",
        "https://www.sciencedirect.com/science/article/abs/pii/S0377221716308657\n",
        "\n",
        "Importante ressaltar que o conteúdo apresentado nesse notebook está muito mais próximo de um exercício do que de um projeto de pesquisa. Os dados utilizados, tanto pela fonte quanto pela quantidade, não são recomendados para uso profissional. O intuito do material é apenas obter insights sobre o comportamento de modelos de machine learning e apresentar **de forma introdutória** como técnicas de ML podem vir a ser incorporadas no processo de pesquisa e alocação de ativos.\n",
        "\n",
        "\n",
        "\n",
        "   "
      ]
    },
    {
      "cell_type": "markdown",
      "metadata": {
        "id": "xPzzhUdrtH4S"
      },
      "source": [
        "---------\n",
        "---------\n",
        "## 2. Metodologia"
      ]
    },
    {
      "cell_type": "markdown",
      "metadata": {
        "id": "coRrMJyBu36R"
      },
      "source": [
        "**Base de dados:**  \n",
        "O Universo de ativos considerado são as ações que faziam parte do índice Bovespa no dia 23/10/2020, excluindo aquelas que apresentaram erros na extração de dados.\n",
        "Os dados de preços das ações e os valores do Ibovespa são extraídos da base do Yahoo Finance e compreendem o período de 26/10/2015 até 23/10/2020. Deste corte temporal, 70% é separado para base de treino e 30% para base de teste de forma cronológica. Ou seja, a base de treino vai do início da amostra até o dia 09/08/2019 e a base de teste segue a partir dessa data até o fim da amostra.  \n",
        "Os dados dos portfólios de fatores de risco são obtidos do site do NEFIN (http://nefin.com.br/).  \n",
        "\n",
        "\n",
        "**Features:**  \n",
        "Para cada ação e cada dia da amostra, são calculadas as seguintes variáveis preditoras:\n",
        "$$\\frac{p_{t} - p_{t-i}}{p_{t-i}}, i \\in \\{1, 2, 3, \\dots, 19, 20, 40, 60,  \\dots, 240\\}$$\n",
        "onde $p_t$ é o preço de fechamento da ação no dia $t$.  \n",
        "  \n",
        "\n",
        "**Classification Target**:  \n",
        "Para cada ação e cada dia da amostra, o objetivo do modelo é prever se o preço de fechamento do dia seguinte será maior que o preço de fechamento do dia atual. Ou seja:\n",
        "$$y = \\begin{cases}\n",
        "        1 & p_{t+1} > p_t \\\\\n",
        "        0 & p_{t+1} \\leq p_t\n",
        "      \\end{cases}$$\n",
        "\n",
        "**Modelos**:  \n",
        "Para cada ação, são treinados individualmente dois modelos: Random Forest e Gradient Boosted Trees. Os hiperparâmetros dos modelos são baseados no artigo de referência.\n",
        "\n",
        "**Formação dos Portfólios**:  \n",
        "Para cada dia do período de teste, é usada a média entre as probabilidades de alta prevista pelos dois modelos para ranquear as ações. O portfólio long only é formado pelas **n** primeiras ações do ranking com pesos iguais e o portfólio short only é formado pelas n últimas ações também com pesos iguais. Naturalmente, o retorno do portfólio long short é dado pelo retorno do portfólio long only subtraído pelo retorno das ações do portfólio short only.  \n",
        "Seguindo o mesmo padrão da literatura de formação dos portfólios teóricos, **n** é escolhido de forma que cada porfólio direcional seja composto por $\\frac{1}{3}$ das ações disponíveis.\n",
        "\n",
        "**Análise dos resultados:**  \n",
        "Em posse da série dos retornos dos portfólios, calculamos as seguintes métricas de performance: retorno anualizado, desvio padrão, naive sharpe ratio (naive porque não subtraio risk free rate) e drawdown máximo. Com isso, as métricas dos portfólios são comparados com a performance do ibovespa no mesmo período. Por fim, é feita a regressão dos portfólios com os portfólios teóricos de fatores de risco usuais a fim de obter uma maior intuição sobre o funcionamento dos modelos.\n"
      ]
    },
    {
      "cell_type": "markdown",
      "metadata": {
        "id": "2lkjARpDKcJ8"
      },
      "source": [
        "---------------\n",
        "-----------------\n",
        "## 3. Código"
      ]
    },
    {
      "cell_type": "markdown",
      "metadata": {
        "id": "5pr8RTHsXDBB"
      },
      "source": [
        "### 3.1 Preliminares"
      ]
    },
    {
      "cell_type": "code",
      "metadata": {
        "id": "vm1sFXzfyLZd"
      },
      "source": [
        "import pandas as pd\n",
        "import numpy as np\n",
        "import pandas_datareader.data as web\n",
        "import matplotlib.pyplot as plt\n",
        "from sklearn.ensemble import GradientBoostingClassifier, RandomForestClassifier\n",
        "from statsmodels.formula.api import ols\n"
      ],
      "execution_count": null,
      "outputs": []
    },
    {
      "cell_type": "code",
      "metadata": {
        "id": "X-sc7QGvylK-"
      },
      "source": [
        "# Universo de ações\n",
        "tickers = ['ABEV3.SA', 'AZUL4.SA', 'B3SA3.SA', 'BBAS3.SA', 'BBDC4.SA',\n",
        "           'BBSE3.SA', 'BEEF3.SA', 'BPAC11.SA', 'BRAP4.SA', 'BRDT3.SA', \n",
        "           'BRFS3.SA', 'BRKM5.SA', 'BRML3.SA', 'BTOW3.SA', 'CCRO3.SA', \n",
        "           'CIEL3.SA', 'CMIG4.SA', 'COGN3.SA', 'CPFE3.SA', 'CRFB3.SA',\n",
        "           'CSAN3.SA', 'CSNA3.SA', 'CVCB3.SA', 'CYRE3.SA', 'ECOR3.SA',\n",
        "           'EGIE3.SA', 'ELET3.SA', 'ELET6.SA', 'EMBR3.SA', 'ENBR3.SA', \n",
        "           'ENGI11.SA', 'EQTL3.SA', 'FLRY3.SA', 'GGBR4.SA', 'GNDI3.SA',\n",
        "           'GOAU4.SA', 'GOLL4.SA', 'HAPV3.SA', 'HGTX3.SA', 'HYPE3.SA',\n",
        "           'IGTA3.SA', 'IRBR3.SA', 'ITSA4.SA', 'ITUB4.SA', 'JBSS3.SA', \n",
        "           'KLBN11.SA', 'LAME4.SA', 'LREN3.SA', 'MGLU3.SA', 'MRFG3.SA',\n",
        "           'MRVE3.SA', 'MULT3.SA', 'NTCO3.SA', 'PETR3.SA', 'PETR4.SA',\n",
        "           'QUAL3.SA', 'RADL3.SA', 'RAIL3.SA', 'RENT3.SA', 'SANB11.SA', \n",
        "           'SBSP3.SA', 'SULA11.SA', 'SUZB3.SA', 'TAEE11.SA', 'TIMP3.SA',\n",
        "           'TOTS3.SA', 'UGPA3.SA', 'USIM5.SA', 'VALE3.SA', 'VIVT4.SA', \n",
        "           'VVAR3.SA', 'WEGE3.SA', 'YDUQ3.SA']"
      ],
      "execution_count": null,
      "outputs": []
    },
    {
      "cell_type": "code",
      "metadata": {
        "id": "D6XV8SCN-u_d"
      },
      "source": [
        "# Baixando os dados do Yahoo\n",
        "keys = []\n",
        "for ticker in tickers:\n",
        "    name = ticker[:-3]\n",
        "    keys.append(name)\n",
        "\n",
        "dfs = {}\n",
        "for i in range(len(keys)):\n",
        "  dfs[keys[i]] = web.DataReader(tickers[i], data_source='yahoo')  \n",
        "\n",
        "# Carregando bases de dados\n",
        "dfs_factors = obter_risk_factors_nefin() # função que baixa os dados do site nefin\n",
        "base_retornos_futuros = pd.read_csv('caminho do arquivo')"
      ],
      "execution_count": null,
      "outputs": []
    },
    {
      "cell_type": "markdown",
      "metadata": {
        "id": "P2CPsGJ3Wo2Z"
      },
      "source": [
        "------------------\n",
        "------------------\n",
        "### 3.2 Treinando modelos e obtendo previsões"
      ]
    },
    {
      "cell_type": "code",
      "metadata": {
        "id": "BjpEjrdSDIoF"
      },
      "source": [
        "# Função para preparar as base de dados que serão usadas para treinar modelos e obter probabilidades\n",
        "\n",
        "def preparar_base(ticker, prop_treino, dfs):\n",
        "\n",
        "  df = dfs[ticker[:-3]]                                                             \n",
        "  df = pd.DataFrame(df['Adj Close'])\n",
        "  \n",
        "  for i in [1,2,3,4,5,6,7,8,9,10,11,12,13,15,16,17,18,19,20,40,60,80,100,120,140,160,180,200,220,240]:\n",
        "    df['lag{}'.format(i)] = (df['Adj Close'] - df['Adj Close'].shift(i)) / df['Adj Close'].shift(i)\n",
        "  \n",
        "  df['Target'] = df['Adj Close'].shift(-1) > df['Adj Close']\n",
        "  df = df.dropna()\n",
        "  X = df.iloc[:,1:-1]\n",
        "  Y = df['Target']\n",
        "  N_split = round(len(Y)*0.7)\n",
        "  X_train, Y_train = X[:N_split], Y[:N_split] \n",
        "  X_test, Y_test = X[N_split:], Y[N_split:]\n",
        "  print('Base preparada.')\n",
        "  print('Tamanho amostra de treino:', N_split-1)\n",
        "  print('Tamanho amostra de teste:', len(Y_test))\n",
        "  \n",
        "  return {'X_train': X_train, 'Y_train': Y_train, 'X_test': X_test, 'Y_test': Y_test}"
      ],
      "execution_count": null,
      "outputs": []
    },
    {
      "cell_type": "code",
      "metadata": {
        "id": "1KiIuIxODvyx"
      },
      "source": [
        "# Função para obter as probabilidades estimadas do ensemble\n",
        "\n",
        "def obter_probabilidades(X_train, Y_train, X_test):\n",
        "\n",
        "  #Boosting\n",
        "  boost = GradientBoostingClassifier(n_estimators = 100, learning_rate= 0.01)\n",
        "  boost.fit(X_train, Y_train)\n",
        "  probs_boost = boost.predict_proba(X_test)[:,1]\n",
        "\n",
        "  #Random Forest\n",
        "  rf = RandomForestClassifier(n_estimators = 100)\n",
        "  rf.fit(X_train, Y_train)\n",
        "  probs_rf = rf.predict_proba(X_test)[:,1]\n",
        "\n",
        "  mean_probs = np.mean([probs_boost, probs_rf], axis = 0)\n",
        "\n",
        "  return mean_probs"
      ],
      "execution_count": null,
      "outputs": []
    },
    {
      "cell_type": "code",
      "metadata": {
        "id": "1DqwxE8nJw1l"
      },
      "source": [
        "# Loop principal da sessão. Treina os modelos e obtêm as probabilidades estimadas.\n",
        "\n",
        "# parâmetros:\n",
        "prop_treino = 0.7\n",
        "\n",
        "# variáveis auxiliares:\n",
        "lista_probs = []\n",
        "i = 1\n",
        "\n",
        "# Loop para calcular as previsões de probabilidade de cada ação\n",
        "for ticker in tickers:\n",
        "  dados = preparar_base(ticker, prop_treino, dfs)\n",
        "  if len(dados['Y_test']) < 1:                              \n",
        "    print('Pulando ', ticker ,' por número insuficiente de dados!')\n",
        "    i += 1\n",
        "    continue\n",
        "  probs = obter_probabilidades(dados['X_train'], dados['Y_train'], dados['X_test'])\n",
        "  dados['X_test'][ticker[:-3]] = probs\n",
        "  lista_probs.append(dados['X_test'].iloc[:,-1:])\n",
        "  print('Probabilidades para ', ticker, ' calculadas com sucesso!')\n",
        "  print('{} de {} iterações realizadas'.format(i , len(tickers)))\n",
        "  i += 1"
      ],
      "execution_count": null,
      "outputs": []
    },
    {
      "cell_type": "code",
      "metadata": {
        "id": "A0rHxdhcRtJo"
      },
      "source": [
        "# Juntando as séries de probabilidades em um único dataframe\n",
        "base_probs = lista_probs[0]\n",
        "for i in range(len(lista_probs)-1):\n",
        "    base_probs = base_probs.merge(lista_probs[i+1], how = 'outer', on = 'Date')\n",
        "base_probs = base_probs.sort_index()\n",
        "base_probs = base_probs.dropna(axis = 0, thresh=len(tickers)*1/2) # Tirando datas com muitos NaNs"
      ],
      "execution_count": null,
      "outputs": []
    },
    {
      "cell_type": "markdown",
      "metadata": {
        "id": "LAShyDKTBFW6"
      },
      "source": [
        "--------\n",
        "--------\n",
        "### 3.3 Backtest"
      ]
    },
    {
      "cell_type": "code",
      "metadata": {
        "id": "dAGr3_tqBJa5"
      },
      "source": [
        "# Funções para cálculo de métricas de performance\n",
        "def daily_to_annualized_returns(series):\n",
        "  series = list(filter(lambda v: v==v, series))\n",
        "  return  (1+(series[-1] - series[0])/series[0])**(252/len(series)) - 1 \n",
        "\n",
        "def naive_sharpe_ratio(series): # Naive Sharpe Ratio pq é sem subtrair risk_free!\n",
        "  series = list(filter(lambda v: v==v, series))\n",
        "  return ((series[-1] - series[0])/series[0])/np.std(series)\n",
        "\n",
        "def max_drawdown(series):\n",
        "  series = list(series)\n",
        "  drawdown = 0\n",
        "  for i in range(len(series)):\n",
        "    for j in range(i):\n",
        "      d = (series[i] - series[j])/series[j]\n",
        "      if d < drawdown:\n",
        "        drawdown = d\n",
        "  return abs(drawdown)\n",
        "\n",
        "def performance_metrics(series):\n",
        "  series = list(filter(lambda v: v==v, series))\n",
        "  return [daily_to_annualized_returns(series),\n",
        "          np.std(series), \n",
        "          naive_sharpe_ratio(series),\n",
        "          max_drawdown(series),\n",
        "          daily_to_annualized_returns(series)/max_drawdown(series)]\n",
        "\n",
        "\n",
        "# Funções auxiliares para backtest\n",
        "def montar_portfolio_long(base_probs, n_acoes):\n",
        "  return pd.DataFrame(base_probs.columns.values[np.argsort(-base_probs.values, axis = 1)[:,:n_acoes]],\n",
        "                      index = base_probs.index)\n",
        "  \n",
        "def montar_portfolio_short(base_probs, n_acoes):\n",
        "  return pd.DataFrame(base_probs.columns.values[np.argsort(base_probs.values, axis = 1)[:,:n_acoes]],\n",
        "                      index = base_probs.index) \n",
        "  \n",
        "def calcular_retornos(base, base_probs, base_retornos_futuros, n_acoes, short = False):\n",
        "  serie_retorno = []\n",
        "  # Loop para popular as séries\n",
        "  for date in base_probs.index:\n",
        "    port = np.array(base.loc[date, :])\n",
        "    port_retornos = base_retornos_futuros.loc[date, port]\n",
        "    if short == True:\n",
        "      retorno = (-1)*np.sum(port_retornos)/n_acoes\n",
        "    else:\n",
        "      retorno = np.sum(port_retornos)/n_acoes\n",
        "    serie_retorno.append(retorno)\n",
        "  return serie_retorno\n",
        "\n",
        "# Função principal!\n",
        "def backtest(base_retornos_futuros, base_probs, n_acoes):\n",
        "     \n",
        "     # Montando portfolios\n",
        "     base_long = montar_portfolio_long(base_probs, n_acoes)\n",
        "     base_short = montar_portfolio_short(base_probs, n_acoes)\n",
        "     \n",
        "     # Calculando retorno dos portfolios\n",
        "     serie_retorno_long = calcular_retornos(base_long, base_probs, base_retornos_futuros, n_acoes,  short = False)\n",
        "     serie_retorno_short = calcular_retornos(base_short, base_probs, base_retornos_futuros, n_acoes, short = True)\n",
        "     \n",
        "     # Calculando retornos acumulados\n",
        "     serie_retorno_long.insert(0, 0)\n",
        "     serie_retorno_short.insert(0,0)\n",
        "     serie_retorno_long_short = np.array(serie_retorno_long) + np.array(serie_retorno_short) # Long Short\n",
        "\n",
        "     serie_retorno_long = np.cumprod(np.array(serie_retorno_long) + 1)\n",
        "     serie_retorno_short = np.cumprod(np.array(serie_retorno_short) + 1)\n",
        "     serie_retorno_long_short = np.cumprod(np.array(serie_retorno_long_short) + 1)\n",
        "     \n",
        "     # Plotando resultado:\n",
        "     fig1, ax1 = plt.subplots()\n",
        "     ax1.plot(base_long.index ,serie_retorno_long[:-1], label = 'long only')\n",
        "     ax1.plot(base_short.index, serie_retorno_short[:-1], label = 'short only')\n",
        "     ax1.plot(base_long.index, serie_retorno_long_short[:-1], label = 'long short')\n",
        "     ax1.set_title('Retorno acumulado dos portfolios')\n",
        "     ax1.legend()\n",
        "     \n",
        "     # Comparando com benchmark\n",
        "     ibov = web.DataReader('^BVSP', data_source='yahoo')\n",
        "     ibov['Adj Close']\n",
        "     ibov_ret = (ibov['Adj Close'] - ibov['Adj Close'].shift(1)) / ibov['Adj Close'].shift(1)\n",
        "     ibov_ret_futuro = ibov_ret.shift(-1) \n",
        "\n",
        "     # Serie Retorno IBOV saindo do 1 para poder comparar\n",
        "     serie_retorno_ibov = []\n",
        "     for date in base_long.index:\n",
        "         serie_retorno_ibov.append(ibov_ret_futuro[date])\n",
        "     serie_retorno_ibov.insert(0,0)\n",
        "     serie_retorno_ibov = np.cumprod(np.array(serie_retorno_ibov) + 1)\n",
        "     \n",
        "     # Comparar long only com ibov\n",
        "     fig2, ax2 = plt.subplots()\n",
        "     ax2.plot(base_long.index ,serie_retorno_long[:-1], label = 'long only')\n",
        "     ax2.plot(base_long.index, serie_retorno_ibov[:-1], label = 'ibov')\n",
        "     ax2.set_title('Long-Only vs. Ibov')\n",
        "     ax2.legend()\n",
        "     \n",
        "     # Printando métricas dos resultados\n",
        "     series = {'long only': serie_retorno_long,\n",
        "          'short only': serie_retorno_short,\n",
        "          'long-short': serie_retorno_long_short,\n",
        "          'ibov': serie_retorno_ibov}\n",
        "     \n",
        "     perf_metrics = pd.DataFrame(index=['Annualized Return', 'Std Dev', 'Naive Sharpe Ratio', 'Max Drawdown', 'Calmar Ratio']) \n",
        "     \n",
        "     for key in series.keys():\n",
        "        perf_metrics[key] = performance_metrics(series[key])\n",
        "    \n",
        "     print(perf_metrics)\n",
        "\n",
        "     # Regressao com Fama-Factors\n",
        "     base_regressao = pd.DataFrame(serie_retorno_long[:-1], index = base_long.index)\n",
        "     base_regressao.columns = ['long_only']\n",
        "     base_regressao['long_short'] = serie_retorno_long_short[:-1]\n",
        "     base_regressao = (base_regressao - base_regressao.shift(1))/base_regressao\n",
        "     for key in dfs_factors.keys():\n",
        "       base_regressao = base_regressao.merge(dfs_factors[key], how = 'inner', on = 'Date')\n",
        "     base_regressao = base_regressao.dropna()\n",
        "\n",
        "     model = ols(\"long_only ~ Rm_minus_Rf + SMB + HML + WML + IML\", base_regressao).fit()\n",
        "     print('')\n",
        "     print('----------')\n",
        "     print('Regressão Long Only')\n",
        "     print(model.summary())\n",
        "\n",
        "     model = ols(\"long_short ~ Rm_minus_Rf + SMB + HML + WML + IML\", base_regressao).fit()\n",
        "     print('')\n",
        "     print('----------')\n",
        "     print('Regressão Long-Short')\n",
        "     print(model.summary())"
      ],
      "execution_count": null,
      "outputs": []
    },
    {
      "cell_type": "code",
      "metadata": {
        "id": "rk8X_voEAs6B",
        "outputId": "d5b8cde8-11b8-4253-d506-8036f2a3561e",
        "colab": {
          "base_uri": "https://localhost:8080/",
          "height": 1000
        }
      },
      "source": [
        "#Usar 1/3 das acoes para o portfolio long e 1/3 para o short\n",
        "n_acoes = round(base_probs.shape[1]/3)\n",
        "backtest(base_retornos_futuros, base_probs, n_acoes)"
      ],
      "execution_count": null,
      "outputs": [
        {
          "output_type": "stream",
          "text": [
            "                    long only  short only  long-short      ibov\n",
            "Annualized Return    0.043335   -0.109098    0.110213 -0.022074\n",
            "Std Dev              0.130426    0.112604    0.058732  0.118301\n",
            "Naive Sharpe Ratio   0.399875   -1.148148    2.272761 -0.222387\n",
            "Max Drawdown         0.509436    0.366915    0.160897  0.468158\n",
            "Calmar Ratio         0.085065   -0.297339    0.684993 -0.047150\n",
            "\n",
            "----------\n",
            "Regressão Long Only\n",
            "                            OLS Regression Results                            \n",
            "==============================================================================\n",
            "Dep. Variable:              long_only   R-squared:                       0.938\n",
            "Model:                            OLS   Adj. R-squared:                  0.937\n",
            "Method:                 Least Squares   F-statistic:                     777.9\n",
            "Date:                Sat, 24 Oct 2020   Prob (F-statistic):          6.45e-153\n",
            "Time:                        02:33:52   Log-Likelihood:                 884.31\n",
            "No. Observations:                 263   AIC:                            -1757.\n",
            "Df Residuals:                     257   BIC:                            -1735.\n",
            "Df Model:                           5                                         \n",
            "Covariance Type:            nonrobust                                         \n",
            "===============================================================================\n",
            "                  coef    std err          t      P>|t|      [0.025      0.975]\n",
            "-------------------------------------------------------------------------------\n",
            "Intercept      -0.0009      0.001     -1.782      0.076      -0.002    9.88e-05\n",
            "Rm_minus_Rf     1.2325      0.026     47.647      0.000       1.182       1.283\n",
            "SMB             0.4243      0.105      4.058      0.000       0.218       0.630\n",
            "HML            -0.0694      0.072     -0.965      0.335      -0.211       0.072\n",
            "WML             0.0397      0.049      0.806      0.421      -0.057       0.137\n",
            "IML            -0.1649      0.123     -1.342      0.181      -0.407       0.077\n",
            "==============================================================================\n",
            "Omnibus:                      201.896   Durbin-Watson:                   1.857\n",
            "Prob(Omnibus):                  0.000   Jarque-Bera (JB):             4274.798\n",
            "Skew:                          -2.803   Prob(JB):                         0.00\n",
            "Kurtosis:                      21.939   Cond. No.                         303.\n",
            "==============================================================================\n",
            "\n",
            "Warnings:\n",
            "[1] Standard Errors assume that the covariance matrix of the errors is correctly specified.\n",
            "\n",
            "----------\n",
            "Regressão Long-Short\n",
            "                            OLS Regression Results                            \n",
            "==============================================================================\n",
            "Dep. Variable:             long_short   R-squared:                       0.259\n",
            "Model:                            OLS   Adj. R-squared:                  0.244\n",
            "Method:                 Least Squares   F-statistic:                     17.94\n",
            "Date:                Sat, 24 Oct 2020   Prob (F-statistic):           2.94e-15\n",
            "Time:                        02:33:52   Log-Likelihood:                 826.05\n",
            "No. Observations:                 263   AIC:                            -1640.\n",
            "Df Residuals:                     257   BIC:                            -1619.\n",
            "Df Model:                           5                                         \n",
            "Covariance Type:            nonrobust                                         \n",
            "===============================================================================\n",
            "                  coef    std err          t      P>|t|      [0.025      0.975]\n",
            "-------------------------------------------------------------------------------\n",
            "Intercept       0.0004      0.001      0.584      0.560      -0.001       0.002\n",
            "Rm_minus_Rf     0.2005      0.032      6.212      0.000       0.137       0.264\n",
            "SMB             0.3514      0.130      2.693      0.008       0.094       0.608\n",
            "HML             0.0770      0.090      0.857      0.392      -0.100       0.254\n",
            "WML            -0.0465      0.061     -0.757      0.450      -0.168       0.075\n",
            "IML            -0.3474      0.153     -2.265      0.024      -0.649      -0.045\n",
            "==============================================================================\n",
            "Omnibus:                       24.552   Durbin-Watson:                   1.853\n",
            "Prob(Omnibus):                  0.000   Jarque-Bera (JB):              103.842\n",
            "Skew:                           0.086   Prob(JB):                     2.83e-23\n",
            "Kurtosis:                       6.074   Cond. No.                         303.\n",
            "==============================================================================\n",
            "\n",
            "Warnings:\n",
            "[1] Standard Errors assume that the covariance matrix of the errors is correctly specified.\n"
          ],
          "name": "stdout"
        },
        {
          "output_type": "display_data",
          "data": {
            "image/png": "[encoded data removed]",
            "text/plain": [
              "<Figure size 432x288 with 1 Axes>"
            ]
          },
          "metadata": {
            "tags": [],
            "needs_background": "light"
          }
        },
        {
          "output_type": "display_data",
          "data": {
            "image/png": "[encoded data removed]",
            "text/plain": [
              "<Figure size 432x288 with 1 Axes>"
            ]
          },
          "metadata": {
            "tags": [],
            "needs_background": "light"
          }
        }
      ]
    },
    {
      "cell_type": "markdown",
      "metadata": {
        "id": "Xc6ImfLRjmzB"
      },
      "source": [
        "------------------\n",
        "------------------\n",
        "## 4. Análise dos resultados e considerações finais\n",
        "Analisando primeiro as métricas de performance do portfólio long only, observamos que superou o benchmark em retorno anualizado com contrapartida de um risco mais alto, tanto pelo desvio padrão quanto pelo max drawdown. Já o portfólio long short chama ainda mais atenção com um retorno anualizado de 11% e desvio padrão consideravelmente menor (o que é esperado de um portfólio long short).  \n",
        "\n",
        "Agora observando os coeficientes das regressões do portfólio long only, duas observações chamam atenção. A primeira é o market beta de 1,23 e estatisticamente significativo, com isso temos uma explicação para a maior volatilidade observada em comparação com o benchmark. Segundo, usando um threshold de 0.1, temos que o portfólio apresenta alfa estatisticamente significante e negativo. Adicionalmente, observamos que o único fator de risco (fora risco de mercado) que afeta o portfólio é o Small minus Big, o que mostra que o modelo não diversifica em relação a tamanho de empresas e concentra as alocações em ações de empresas relativamente menores.\n",
        "\n",
        "Como esperado, a market beta do portfólio long short é relativamente baixo, mostrando que é parcialmente bem sucedido em mitigar risco de mercado. Além disso, assim como o long only, o portfólio long short também é positivamente correlacionado com o portfólio teórico de tamanho. Por outro lado, diferente do long only, apresenta coeficiente negativo e estatisticamente significativo em relação ao portfólio IML.\n",
        "Por fim (**mas não menos importante**), o $R^2$ ajustado de 0.24 mostra que boa parte dos retornos do portfólio long short não são explicados pelos fatores de risco usuais, indicando que o portfólio gerado pelos modelos poderia ser útil para buscar retornos descorrelacionados com esses fatores.\n",
        "\n",
        "Para finalizar, vale ressaltar novamente que o trabalho apresentado acima é apenas um exercício inicial. Uma análise a nível profissional deveria considerar mais modelos e features, fazer *tuning* dos hiperparâmetros, treinar e testar os modelos em contextos de mercado diferentes e utilizar um universo maior de ativos. **Especialmente**, ao não levar em conta os custos operacionais da estratégia (que tem rebalanceamento diário nas duas pontas!) os resultados referentes ao retorno anualizado e sharpe ratio não devem ser levados pelo seu valor de face. Por outro lado, o resultado da descorrelação do portfólio long short com os fatores de risco demonstra uma qualidade interessante do modelo que justificaria análises futuras mais aprofundadas."
      ]
    },
    {
      "cell_type": "code",
      "metadata": {
        "id": "vza9ovANfV53"
      },
      "source": [
        ""
      ],
      "execution_count": null,
      "outputs": []
    }
  ]
}
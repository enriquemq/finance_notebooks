{
  "nbformat": 4,
  "nbformat_minor": 0,
  "metadata": {
    "colab": {
      "name": "git_hub_factor_regression_analysis_top10FIAs.ipynb",
      "provenance": [],
      "collapsed_sections": [],
      "authorship_tag": "ABX9TyNHLftMXLbvrKrAFL0fEQAh"
    },
    "kernelspec": {
      "name": "python3",
      "display_name": "Python 3"
    }
  },
  "cells": [
    {
      "cell_type": "markdown",
      "metadata": {
        "id": "iVIYBIOKU4SG"
      },
      "source": [
        "# Análise baseada em fatores dos 10 FIAs livres brasileiros com maiores patrimônios líquidos\n",
        "**Escrito por**: Enrique Quintslr (https://github.com/enriquemq/)  \n",
        " <font size=\"2\"> *Qualquer crítica, dúvida ou sugestão, sinta-se a vontade para entrar em contato pelo meio de sua preferência.*</font> \n"
      ]
    },
    {
      "cell_type": "markdown",
      "metadata": {
        "id": "7_N61mBye8nH"
      },
      "source": [
        "## Introdução"
      ]
    },
    {
      "cell_type": "markdown",
      "metadata": {
        "id": "ZLIdJznTVRG7"
      },
      "source": [
      "É natural esperar que os fundos de investimento em ações melhores sucedidos em arrecadação de recursos sejam também aqueles com os gestores mais competentes. Este notebook busca estudar essa hipótese através de um exercício baseado em Fama e French (2010). Resumidamente,  usando dados diários dos 10 maiores FIAs livres em patrimônio líquido com mais de 2 anos de atividade, é feita a regressão do retornos dos fundos com os retornos dos principais fatores de risco para verificar a existência de retornos anormais (mais conhecido como $\\alpha$).\n",
      "O notebook está organizado da seguinte forma: primeiro apresenta a metodologia, em seguida apresenta o código utilizado e, por fim, os resultados são expostos e analisados." 
      ]
    },
    {
      "cell_type": "markdown",
      "metadata": {
        "id": "9GwzJLBeXPyF"
      },
      "source": [
        "## Dados e metodologia"
      ]
    },
    {
      "cell_type": "markdown",
      "metadata": {
        "id": "V7L1n_stXTRw"
      },
      "source": [
        "**Seleção dos fundos**:  \n",
        "Usando a plataforma do https://maisretorno.com/, foi obtida a lista dos 10 fundos com maior patrimônio líquido entre os fundos de ações livres e com pelo menos dois anos de atividade.\n",
        "\n",
        "**Dados**:  \n",
        "Os dados dos fundos foram extraídos do site https://infofundos.com.br/ e os dados dos fatores de risco foram obtidos através das séries calculadas pelo NEFIN (http://nefin.com.br/).\n",
        "\n",
        "**Metodologia:**  \n",
        "Baseado em Fama e French (2010), com o objetivo de encontrar indícios de retornos anormais, para cada fundo $i$ é feita a seguinte regressão:  \n",
        "\n",
        "$$r_{i, t} - r_{f, t} = \\alpha_{i} + \\beta_{i,1}(r_{mkt, t} - r_{f, t}) + \\beta_{i,2}SMB_t + \\beta_{i,3}HML_t + \\beta_{i,4}WML_t + \\beta_{i, 5}IML_t + \\epsilon_{i,t}$$\n",
        "  \n",
        "Onde $r_{i}$ é o retorno diário do fundo $i$, $r_f$ é a taxa livre de risco, $r_{mkt}$ é retorno diário do Ibovespa, $SMB$ é o retorno diário do portfólio teórico de tamanho, $HML$ é o retorno diário do portfólio teórico de valor, $WML$ é o retorno diário do portfólio teórico de momentum e $IML$ é o retorno diário do portfólio teórico de iliquidez. Note que em Fama e French (2010) são usados apenas os 4 primeiros fatores de risco, diferente do que é feito neste notebook.  \n",
        "Diremos que um fundo apresenta retorno anormal se o $\\hat{\\alpha}$ estimado tiver significância estatística e for positivo.\n",
        "Para podermos fazer comparações, a regressão será feita com o mesmo corte temporal para todos os fundos, sendo este de 05/03/2018 até 29/05/2020.\n"
      ]
    },
    {
      "cell_type": "markdown",
      "metadata": {
        "id": "dMr3bheNfPUQ"
      },
      "source": [
        "## Código"
      ]
    },
    {
      "cell_type": "code",
      "metadata": {
        "id": "Wr6At8GwH6Ys"
      },
      "source": [
        "from google.colab import files\n",
        "import pandas as pd\n",
        "import numpy as np\n",
        "import pandas_datareader.data as web\n",
        "from statsmodels.formula.api import ols"
      ],
      "execution_count": null,
      "outputs": []
    },
    {
      "cell_type": "code",
      "metadata": {
        "id": "XzKinWPkqwEj"
      },
      "source": [
        "# Pegar e limpar data frame com os dados dos fundos e juntar com os dados dos fatores de risco\n",
        "def montar_base_regressao(base_fundos, dicionario_base_ff, base_risk_free):\n",
        "  \n",
        "  dfs_factors = dicionario_base_ff\n",
        "\n",
        "  base_fundos = base_fundos[['Fundo', 'Data', 'Variação']]\n",
        "  base_fundos = base_fundos.set_index('Data')\n",
        "\n",
        "  base_fundos_unstacked = base_fundos.pivot(columns='Fundo', values = 'Variação')\n",
        "  base_fundos_unstacked = base_fundos_unstacked.dropna()\n",
        "  \n",
        "  base_regressao = base_fundos_unstacked\n",
        "  for key in dfs_factors.keys():\n",
        "    base_regressao = base_regressao.merge(dfs_factors[key], how = 'inner', on = 'Data')\n",
        "  base_regressao = base_regressao.merge(base_risk_free, how = 'inner', on = 'Data')\n",
        "  base_regressao = base_regressao.dropna()\n",
        "  print('Janela de regressão de ', base_regressao.index[0].strftime(\"%Y-%m-%d\"), 'até ', base_regressao.index[-1].strftime(\"%Y-%m-%d\"), '.')\n",
        "  return base_regressao"
      ],
      "execution_count": null,
      "outputs": []
    },
    {
      "cell_type": "code",
      "metadata": {
        "id": "9lIeH9hulFaR"
      },
      "source": [
        "# Rodar a regressão fundo ~ fatores e recuperar os parâmetros e os p-valores\n",
        "def resultados_ols(coluna, base_regressao):\n",
        "  base_regressao['Y'] = base_regressao.iloc[:,coluna] - base_regressao['risk_free']\n",
        "  model = ols(\"Y ~ Rm_minus_Rf + SMB + HML + WML + IML\", base_regressao).fit()\n",
        "  p_val = np.round(model.pvalues,5)\n",
        "  p_val.index = p_val.index + '_pval'\n",
        "  p_val\n",
        "  \n",
        "  params = model.params\n",
        "\n",
        "  linha = params.append(p_val)\n",
        "\n",
        "  df = pd.DataFrame(linha)\n",
        "  df.columns = [str(base_regressao.columns[coluna])]\n",
        "  df = df.transpose()\n",
        "  return  df"
      ],
      "execution_count": null,
      "outputs": []
    },
    {
      "cell_type": "code",
      "metadata": {
        "id": "UT1RMONEm6OT"
      },
      "source": [
        "# Montar um dataframe no qual cada linha é um FIA e as colunas são os parametros e os p valores das regressoes\n",
        "def montar_base_resultados(base_regressao):\n",
        "  df = pd.DataFrame()\n",
        "  for i in range(base_regressao.shape[1] - 6):\n",
        "    df_aux = resultados_ols(i, base_regressao)\n",
        "    df = pd.concat([df, df_aux])\n",
        "  return df\n"
      ],
      "execution_count": null,
      "outputs": []
    },
    {
      "cell_type": "code",
      "metadata": {
        "id": "FpAXEtZftDvv"
      },
      "source": [
        "# Juntando tudo\n",
        "def analise_risk_factors(base_fundos, dicionario_base_ff, risk_free):\n",
        "  base_regressao = montar_base_regressao(df, dfs_factors, risk_free)\n",
        "  base_resultados = montar_base_resultados(base_regressao)\n",
        "  return base_resultados"
      ],
      "execution_count": null,
      "outputs": []
    },
    {
      "cell_type": "markdown",
      "metadata": {
        "id": "sAWT5dFnfZZm"
      },
      "source": [
        "## Resultado e análise"
      ]
    },
    {
      "cell_type": "markdown",
      "metadata": {
        "id": "avXiYRvLttDw"
      },
      "source": [
        "### Resultado"
      ]
    },
    {
      "cell_type": "code",
      "metadata": {
        "id": "1-iRAhogs31Q",
        "outputId": "74e4ba59-d4e7-4824-8cb7-362d2d5a514f",
        "colab": {
          "base_uri": "https://localhost:8080/",
          "height": 818
        }
      },
      "source": [
        "# Baixando os dados e rodando a função acima\n",
        "dados = files.upload()\n",
        "df = pd.read_excel(dados['top_PL_FIAs_2anos.xlsx'])\n",
        "base_risk_free = pd.read_excel(dados['base_risk_free.xlsx'])\n",
        "dfs_factors = obter_risk_factors_nefin() # função que baixa os dados do site do nefin e consolida em um dicionário\n",
        "resultados = analise_risk_factors(df, dfs_factors, base_risk_free)\n",
        "resultados"
      ],
      "execution_count": null,
      "outputs": [
        {
          "output_type": "stream",
          "text": [
            "Janela de regressão de  2018-03-05 até  2020-05-29 .\n"
          ],
          "name": "stdout"
        },
        {
          "output_type": "execute_result",
          "data": {
            "text/html": [
              "<div>\n",
              "<style scoped>\n",
              "    .dataframe tbody tr th:only-of-type {\n",
              "        vertical-align: middle;\n",
              "    }\n",
              "\n",
              "    .dataframe tbody tr th {\n",
              "        vertical-align: top;\n",
              "    }\n",
              "\n",
              "    .dataframe thead th {\n",
              "        text-align: right;\n",
              "    }\n",
              "</style>\n",
              "<table border=\"1\" class=\"dataframe\">\n",
              "  <thead>\n",
              "    <tr style=\"text-align: right;\">\n",
              "      <th></th>\n",
              "      <th>Intercept</th>\n",
              "      <th>Rm_minus_Rf</th>\n",
              "      <th>SMB</th>\n",
              "      <th>HML</th>\n",
              "      <th>WML</th>\n",
              "      <th>IML</th>\n",
              "      <th>Intercept_pval</th>\n",
              "      <th>Rm_minus_Rf_pval</th>\n",
              "      <th>SMB_pval</th>\n",
              "      <th>HML_pval</th>\n",
              "      <th>WML_pval</th>\n",
              "      <th>IML_pval</th>\n",
              "    </tr>\n",
              "  </thead>\n",
              "  <tbody>\n",
              "    <tr>\n",
              "      <th>ATMOS MASTER FUNDO DE INVESTIMENTO DE AÇÕES</th>\n",
              "      <td>0.000924</td>\n",
              "      <td>0.923092</td>\n",
              "      <td>0.419935</td>\n",
              "      <td>-0.316484</td>\n",
              "      <td>0.155973</td>\n",
              "      <td>-0.021070</td>\n",
              "      <td>0.00121</td>\n",
              "      <td>0.0</td>\n",
              "      <td>0.00000</td>\n",
              "      <td>0.00000</td>\n",
              "      <td>0.00000</td>\n",
              "      <td>0.77833</td>\n",
              "    </tr>\n",
              "    <tr>\n",
              "      <th>BRASIL CAPITAL 30 MASTER FUNDO DE INVESTIMENTO EM AÇÕES</th>\n",
              "      <td>0.000568</td>\n",
              "      <td>0.908945</td>\n",
              "      <td>0.397385</td>\n",
              "      <td>-0.333955</td>\n",
              "      <td>0.191332</td>\n",
              "      <td>0.035747</td>\n",
              "      <td>0.02575</td>\n",
              "      <td>0.0</td>\n",
              "      <td>0.00000</td>\n",
              "      <td>0.00000</td>\n",
              "      <td>0.00000</td>\n",
              "      <td>0.59359</td>\n",
              "    </tr>\n",
              "    <tr>\n",
              "      <th>DYNAMO COUGAR FUNDO DE INVESTIMENTO EM AÇÕES</th>\n",
              "      <td>0.000696</td>\n",
              "      <td>0.859589</td>\n",
              "      <td>0.359493</td>\n",
              "      <td>-0.266901</td>\n",
              "      <td>0.148145</td>\n",
              "      <td>-0.094350</td>\n",
              "      <td>0.02039</td>\n",
              "      <td>0.0</td>\n",
              "      <td>0.00000</td>\n",
              "      <td>0.00000</td>\n",
              "      <td>0.00003</td>\n",
              "      <td>0.23156</td>\n",
              "    </tr>\n",
              "    <tr>\n",
              "      <th>ITAÚ DUNAMIS MASTER FUNDO DE INVESTIMENTO EM AÇÕES</th>\n",
              "      <td>0.000373</td>\n",
              "      <td>0.878547</td>\n",
              "      <td>0.212666</td>\n",
              "      <td>-0.049487</td>\n",
              "      <td>0.194089</td>\n",
              "      <td>-0.063875</td>\n",
              "      <td>0.09247</td>\n",
              "      <td>0.0</td>\n",
              "      <td>0.00007</td>\n",
              "      <td>0.10694</td>\n",
              "      <td>0.00000</td>\n",
              "      <td>0.27392</td>\n",
              "    </tr>\n",
              "    <tr>\n",
              "      <th>MOAT CAPITAL FUNDO DE INVESTIMENTO EM AÇÕES MASTER</th>\n",
              "      <td>0.001011</td>\n",
              "      <td>1.063548</td>\n",
              "      <td>0.445493</td>\n",
              "      <td>-0.017534</td>\n",
              "      <td>-0.034866</td>\n",
              "      <td>-0.274289</td>\n",
              "      <td>0.00117</td>\n",
              "      <td>0.0</td>\n",
              "      <td>0.00000</td>\n",
              "      <td>0.68273</td>\n",
              "      <td>0.34112</td>\n",
              "      <td>0.00083</td>\n",
              "    </tr>\n",
              "    <tr>\n",
              "      <th>NÚCLEO MASTER FUNDO DE INVESTIMENTO DE AÇÕES</th>\n",
              "      <td>0.000522</td>\n",
              "      <td>0.946566</td>\n",
              "      <td>0.346391</td>\n",
              "      <td>-0.448803</td>\n",
              "      <td>0.257755</td>\n",
              "      <td>-0.008327</td>\n",
              "      <td>0.08122</td>\n",
              "      <td>0.0</td>\n",
              "      <td>0.00000</td>\n",
              "      <td>0.00000</td>\n",
              "      <td>0.00000</td>\n",
              "      <td>0.91573</td>\n",
              "    </tr>\n",
              "    <tr>\n",
              "      <th>OPPORTUNITY LÓGICA MASTER FUNDO DE INVESTIMENTO EM AÇÕES</th>\n",
              "      <td>0.000501</td>\n",
              "      <td>0.921737</td>\n",
              "      <td>0.138049</td>\n",
              "      <td>-0.127712</td>\n",
              "      <td>0.169037</td>\n",
              "      <td>0.049728</td>\n",
              "      <td>0.02703</td>\n",
              "      <td>0.0</td>\n",
              "      <td>0.01140</td>\n",
              "      <td>0.00005</td>\n",
              "      <td>0.00000</td>\n",
              "      <td>0.40376</td>\n",
              "    </tr>\n",
              "    <tr>\n",
              "      <th>RT CONSTELLATION FUNDO DE INVESTIMENTO EM AÇÕES</th>\n",
              "      <td>0.000235</td>\n",
              "      <td>0.927742</td>\n",
              "      <td>0.145973</td>\n",
              "      <td>-0.057708</td>\n",
              "      <td>0.072285</td>\n",
              "      <td>-0.075496</td>\n",
              "      <td>0.08521</td>\n",
              "      <td>0.0</td>\n",
              "      <td>0.00001</td>\n",
              "      <td>0.00231</td>\n",
              "      <td>0.00001</td>\n",
              "      <td>0.03580</td>\n",
              "    </tr>\n",
              "    <tr>\n",
              "      <th>TRUXT VALOR MASTER FUNDO DE INVESTIMENTO EM AÇÕES</th>\n",
              "      <td>0.000931</td>\n",
              "      <td>0.869554</td>\n",
              "      <td>0.170367</td>\n",
              "      <td>-0.206120</td>\n",
              "      <td>0.180412</td>\n",
              "      <td>-0.045071</td>\n",
              "      <td>0.00150</td>\n",
              "      <td>0.0</td>\n",
              "      <td>0.01556</td>\n",
              "      <td>0.00000</td>\n",
              "      <td>0.00000</td>\n",
              "      <td>0.55773</td>\n",
              "    </tr>\n",
              "    <tr>\n",
              "      <th>VELT MASTER FUNDO DE INVESTIMENTO EM AÇÕES</th>\n",
              "      <td>0.000809</td>\n",
              "      <td>0.811753</td>\n",
              "      <td>0.318161</td>\n",
              "      <td>-0.399598</td>\n",
              "      <td>0.190944</td>\n",
              "      <td>-0.015934</td>\n",
              "      <td>0.00121</td>\n",
              "      <td>0.0</td>\n",
              "      <td>0.00000</td>\n",
              "      <td>0.00000</td>\n",
              "      <td>0.00000</td>\n",
              "      <td>0.80769</td>\n",
              "    </tr>\n",
              "  </tbody>\n",
              "</table>\n",
              "</div>"
            ],
            "text/plain": [
              "                                                    Intercept  ...  IML_pval\n",
              "ATMOS MASTER FUNDO DE INVESTIMENTO DE AÇÕES          0.000924  ...   0.77833\n",
              "BRASIL CAPITAL 30 MASTER FUNDO DE INVESTIMENTO ...   0.000568  ...   0.59359\n",
              "DYNAMO COUGAR FUNDO DE INVESTIMENTO EM AÇÕES         0.000696  ...   0.23156\n",
              "ITAÚ DUNAMIS MASTER FUNDO DE INVESTIMENTO EM AÇÕES   0.000373  ...   0.27392\n",
              "MOAT CAPITAL FUNDO DE INVESTIMENTO EM AÇÕES MASTER   0.001011  ...   0.00083\n",
              "NÚCLEO MASTER FUNDO DE INVESTIMENTO DE AÇÕES         0.000522  ...   0.91573\n",
              "OPPORTUNITY LÓGICA MASTER FUNDO DE INVESTIMENTO...   0.000501  ...   0.40376\n",
              "RT CONSTELLATION FUNDO DE INVESTIMENTO EM AÇÕES      0.000235  ...   0.03580\n",
              "TRUXT VALOR MASTER FUNDO DE INVESTIMENTO EM AÇÕES    0.000931  ...   0.55773\n",
              "VELT MASTER FUNDO DE INVESTIMENTO EM AÇÕES           0.000809  ...   0.80769\n",
              "\n",
              "[10 rows x 12 columns]"
            ]
          },
          "metadata": {
            "tags": []
          },
          "execution_count": 16
        }
      ]
    },
    {
      "cell_type": "markdown",
      "metadata": {
        "id": "2hBpiHPbtvGC"
      },
      "source": [
        "### Análise"
      ]
    },
    {
      "cell_type": "markdown",
      "metadata": {
        "id": "IBplxMOfhrt0"
      },
      "source": [
        "Com valor crítico de $0.01$, temos que 4 entre os 10 fundos apresentam $\\hat{\\alpha}$ positivo e estatisticamente significante, sendo esses o Atmos Master, Moat Capital, Truxt Valor Master e Velt Master. Já usando um valor crítico de $0.05$, Brasil Capital 30, Dynamo Cougar e Opportunity Lógica também passam a apresentar $\\hat{\\alpha}$ positivo e estatisticamente significante. Por fim, usando um valor crítico de $0.1$ observamos que todos os dez fundos apresentam $\\hat{\\alpha}$ estatisticamente significativo e positivo. Desta forma, o resultado mostra que os fundos melhores sucedidos comercialmente apresentam indícios de habilidade dos gestores, indicando um certa eficiência do mercado em alocar recursos nas mãos de gestores (pelo menos aparentemente) mais habilidosos.  \n",
        "\n",
        "Agora analisando os outros coeficientes, temos que os dez fundos analisados apresentam market beta próximo de $1$ e estatisticamente significante com valor crítico de $0.01$. Tal resultado era esperado uma vez que todos são fundos de ações.  Analisando a exposição dos fundos ao portfólio de tamanho, observa-se que todos tem seus parâmetros referentes ao $SMB$ positivos e estatisticamente significativos, mostrando que seus gestores capturaram o prêmio de risco relacionado ao investimento em empresas relativamente menores. No outro extremo, apenas dois fundos apresentam coeficiente referente ao portfólio de iliquidez significativo estatisticamente e em ambos os casos esse valor é negativo.  \n",
        "\n",
        "Um resultado interessante é que os 10 fundos têm coeficiente relacionado ao fator de risco de valor ($HML$) negativo, sendo 8 estatisticamente significantes. Como o portfólio de valor tem performado mal no passado recente faz sentido que gestores ativos bem sucedidos estejam 'short' em valor.  \n",
        "\n",
        "Ainda, 9 entre os 10 fundos tem coeficiente relacionado ao momentum ($WML$) positivo e estatisticamente significativo mesmo com valor crítico de $0.01$. Esse resultado é coerente, uma vez que o fator de risco de momentum é sabidamente o fator que apresenta melhor performance histórica. \n",
        "\n",
        "Por fim, é importante ressaltar que **$\\hat{\\alpha}$ positivo é apenas um indício de habilidade**, é possível que um fundo apresente  $\\hat{\\alpha}$ positivo e significante por acaso. O artigo de referência apresenta uma ótima discussão sobre o tema \"habilidade versus sorte\", sendo sua leitura recomendada para os leitores mais interessados."
      ]
    },
    {
      "cell_type": "markdown",
      "metadata": {
        "id": "X3kUCKVlt4fi"
      },
      "source": [
        "## Referência:\n",
        "- **Fama, Eugene F., and Kenneth R. French**. 2010.\n",
        "“Luck versus Skill in the Cross-Section of Mutual\n",
        "Fund Returns.” Journal of Finance 65(5): 1915 – 47 (https://onlinelibrary.wiley.com/doi/abs/10.1111/j.1540-6261.2010.01598.x)"
      ]
    }
  ]
}
